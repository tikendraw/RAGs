{
 "cells": [
  {
   "cell_type": "code",
   "execution_count": 1,
   "metadata": {},
   "outputs": [
    {
     "name": "stderr",
     "output_type": "stream",
     "text": [
      "/home/t/atest/llamaindex-agents/.venv/lib/python3.11/site-packages/tqdm/auto.py:21: TqdmWarning: IProgress not found. Please update jupyter and ipywidgets. See https://ipywidgets.readthedocs.io/en/stable/user_install.html\n",
      "  from .autonotebook import tqdm as notebook_tqdm\n"
     ]
    }
   ],
   "source": [
    "from dotenv import load_dotenv\n",
    "\n",
    "load_dotenv(\"../.env\")\n",
    "import os\n",
    "\n",
    "os.environ[\"HF_HOME\"] = \"/home/t/.cache/huggingface\"\n",
    "\n",
    "\n",
    "from llama_index.core import SimpleDirectoryReader, VectorStoreIndex\n",
    "from llama_index.core.response_synthesizers import CompactAndRefine\n",
    "from llama_index.core.postprocessor.llm_rerank import LLMRerank\n",
    "from llama_index.core.workflow import (\n",
    "    Context,\n",
    "    Workflow,\n",
    "    StartEvent,\n",
    "    StopEvent,\n",
    "    step,\n",
    ")\n",
    "import asyncio\n",
    "\n",
    "from llama_index.llms.gemini import Gemini\n",
    "from llama_index.embeddings.gemini import GeminiEmbedding\n",
    "from llama_index.core import Settings\n",
    "from llama_index.core.data_structs import Node\n",
    "from llama_index.core.response_synthesizers import ResponseMode\n",
    "from llama_index.core import get_response_synthesizer\n",
    "from llama_index.embeddings.huggingface import HuggingFaceEmbedding\n",
    "\n",
    "from llama_index.core.postprocessor import SentenceTransformerRerank\n",
    "\n",
    "\n",
    "from llama_index.embeddings.huggingface import HuggingFaceEmbedding\n",
    "from llama_index.core.postprocessor import SentenceTransformerRerank\n",
    "from llama_index.core.schema import NodeWithScore, Node\n",
    "from opentelemetry.sdk import trace as trace_sdk\n",
    "from opentelemetry.sdk.trace.export import SimpleSpanProcessor\n",
    "from opentelemetry.exporter.otlp.proto.http.trace_exporter import (\n",
    "    OTLPSpanExporter as HTTPSpanExporter,\n",
    ")\n",
    "from openinference.instrumentation.llama_index import LlamaIndexInstrumentor\n",
    "import os\n",
    "from llama_index.core.workflow import Event\n",
    "from llama_index.core.schema import NodeWithScore, Node"
   ]
  },
  {
   "cell_type": "code",
   "execution_count": 2,
   "metadata": {},
   "outputs": [
    {
     "data": {
      "text/plain": [
       "True"
      ]
     },
     "execution_count": 2,
     "metadata": {},
     "output_type": "execute_result"
    }
   ],
   "source": [
    "from dotenv import load_dotenv\n",
    "\n",
    "load_dotenv(\"../.env\")"
   ]
  },
  {
   "cell_type": "code",
   "execution_count": 3,
   "metadata": {},
   "outputs": [],
   "source": [
    "import nest_asyncio\n",
    "\n",
    "nest_asyncio.apply()"
   ]
  },
  {
   "cell_type": "code",
   "execution_count": 4,
   "metadata": {},
   "outputs": [],
   "source": [
    "from llama_index.core import SimpleDirectoryReader, VectorStoreIndex\n",
    "from llama_index.core.ingestion import IngestionPipeline\n",
    "from llama_index.core.node_parser import (\n",
    "    TokenTextSplitter,\n",
    "    HierarchicalNodeParser,\n",
    "    JSONNodeParser,\n",
    "    SentenceWindowNodeParser,\n",
    "    SemanticSplitterNodeParser,\n",
    "    SemanticDoubleMergingSplitterNodeParser,\n",
    "    LanguageConfig,\n",
    "    NodeParser,\n",
    "    HierarchicalNodeParser,\n",
    "    TextSplitter,\n",
    "    MarkdownElementNodeParser,\n",
    "    MetadataAwareTextSplitter,\n",
    "    LangchainNodeParser,\n",
    "    UnstructuredElementNodeParser,\n",
    ")\n",
    "from llama_index.embeddings.huggingface import HuggingFaceEmbedding"
   ]
  },
  {
   "cell_type": "code",
   "execution_count": 5,
   "metadata": {},
   "outputs": [],
   "source": [
    "from llama_index.core.node_parser import get_leaf_nodes, get_root_nodes"
   ]
  },
  {
   "cell_type": "code",
   "execution_count": 6,
   "metadata": {},
   "outputs": [],
   "source": [
    "from llama_index.embeddings.ollama import OllamaEmbedding"
   ]
  },
  {
   "cell_type": "code",
   "execution_count": 7,
   "metadata": {},
   "outputs": [
    {
     "name": "stderr",
     "output_type": "stream",
     "text": [
      "INFO:sentence_transformers.SentenceTransformer:Load pretrained SentenceTransformer: BAAI/bge-small-en-v1.5\n",
      "INFO:sentence_transformers.SentenceTransformer:2 prompts are loaded, with the keys: ['query', 'text']\n"
     ]
    }
   ],
   "source": [
    "embedding_model = GeminiEmbedding()\n",
    "embedding_model2 = HuggingFaceEmbedding(\n",
    "    model_name=\"BAAI/bge-small-en-v1.5\", cache_folder=os.environ[\"HF_HOME\"] + \"/hub\"\n",
    ")\n",
    "embedding_model3 = OllamaEmbedding(model_name=\"all-minilm\")\n",
    "\n",
    "llm = Gemini(model=\"models/gemini-1.5-pro\")\n",
    "Settings.llm = llm\n",
    "Settings.embed_model = embedding_model3"
   ]
  },
  {
   "cell_type": "code",
   "execution_count": 8,
   "metadata": {},
   "outputs": [],
   "source": [
    "async def get_docs(dirname: str):\n",
    "    return await SimpleDirectoryReader(\"./data\").aload_data()"
   ]
  },
  {
   "cell_type": "code",
   "execution_count": 9,
   "metadata": {},
   "outputs": [],
   "source": [
    "docs = await get_docs(\"./data\")"
   ]
  },
  {
   "cell_type": "code",
   "execution_count": 10,
   "metadata": {},
   "outputs": [],
   "source": [
    "pipeline = IngestionPipeline(transformations=[HierarchicalNodeParser.from_defaults()])\n",
    "# pipeline = IngestionPipeline(transformations=[SemanticSplitterNodeParser(embed_model=embedding_model2), SentenceWindowNodeParser()])\n",
    "nodes = pipeline.run(documents=docs)\n",
    "\n",
    "# node_parser = HierarchicalNodeParser.from_defaults(\n",
    "#     chunk_sizes=[2048, 512, 128]\n",
    "\n",
    "\n",
    "# )\n",
    "# nodes= node_parser.get_nodes_from_documents(docs)"
   ]
  },
  {
   "cell_type": "code",
   "execution_count": 11,
   "metadata": {},
   "outputs": [
    {
     "data": {
      "text/plain": [
       "(271, 10)"
      ]
     },
     "execution_count": 11,
     "metadata": {},
     "output_type": "execute_result"
    }
   ],
   "source": [
    "len(nodes), len(docs)"
   ]
  },
  {
   "cell_type": "code",
   "execution_count": 12,
   "metadata": {},
   "outputs": [
    {
     "data": {
      "text/plain": [
       "222"
      ]
     },
     "execution_count": 12,
     "metadata": {},
     "output_type": "execute_result"
    }
   ],
   "source": [
    "leaf_nodes = get_leaf_nodes(nodes)\n",
    "len(leaf_nodes)"
   ]
  },
  {
   "cell_type": "code",
   "execution_count": 13,
   "metadata": {},
   "outputs": [
    {
     "data": {
      "text/plain": [
       "10"
      ]
     },
     "execution_count": 13,
     "metadata": {},
     "output_type": "execute_result"
    }
   ],
   "source": [
    "root_nodes = get_root_nodes(nodes)\n",
    "len(root_nodes)"
   ]
  },
  {
   "cell_type": "code",
   "execution_count": 14,
   "metadata": {},
   "outputs": [],
   "source": [
    "from llama_index.core.storage.docstore import SimpleDocumentStore\n",
    "from llama_index.core import StorageContext\n",
    "from llama_index.llms.openai import OpenAI\n",
    "\n",
    "docstore = SimpleDocumentStore()\n",
    "\n",
    "# insert nodes into docstore\n",
    "docstore.add_documents(nodes)\n",
    "\n",
    "# define storage context (will include vector store by default too)\n",
    "storage_context = StorageContext.from_defaults(docstore=docstore)"
   ]
  },
  {
   "cell_type": "code",
   "execution_count": 15,
   "metadata": {},
   "outputs": [
    {
     "name": "stderr",
     "output_type": "stream",
     "text": [
      "INFO:httpx:HTTP Request: POST http://localhost:11434/api/embeddings \"HTTP/1.1 200 OK\"\n",
      "INFO:httpx:HTTP Request: POST http://localhost:11434/api/embeddings \"HTTP/1.1 200 OK\"\n",
      "INFO:httpx:HTTP Request: POST http://localhost:11434/api/embeddings \"HTTP/1.1 200 OK\"\n",
      "INFO:httpx:HTTP Request: POST http://localhost:11434/api/embeddings \"HTTP/1.1 200 OK\"\n",
      "INFO:httpx:HTTP Request: POST http://localhost:11434/api/embeddings \"HTTP/1.1 200 OK\"\n",
      "INFO:httpx:HTTP Request: POST http://localhost:11434/api/embeddings \"HTTP/1.1 200 OK\"\n",
      "INFO:httpx:HTTP Request: POST http://localhost:11434/api/embeddings \"HTTP/1.1 200 OK\"\n",
      "INFO:httpx:HTTP Request: POST http://localhost:11434/api/embeddings \"HTTP/1.1 200 OK\"\n",
      "INFO:httpx:HTTP Request: POST http://localhost:11434/api/embeddings \"HTTP/1.1 200 OK\"\n",
      "INFO:httpx:HTTP Request: POST http://localhost:11434/api/embeddings \"HTTP/1.1 200 OK\"\n",
      "INFO:httpx:HTTP Request: POST http://localhost:11434/api/embeddings \"HTTP/1.1 200 OK\"\n",
      "INFO:httpx:HTTP Request: POST http://localhost:11434/api/embeddings \"HTTP/1.1 200 OK\"\n",
      "INFO:httpx:HTTP Request: POST http://localhost:11434/api/embeddings \"HTTP/1.1 200 OK\"\n",
      "INFO:httpx:HTTP Request: POST http://localhost:11434/api/embeddings \"HTTP/1.1 200 OK\"\n",
      "INFO:httpx:HTTP Request: POST http://localhost:11434/api/embeddings \"HTTP/1.1 200 OK\"\n",
      "INFO:httpx:HTTP Request: POST http://localhost:11434/api/embeddings \"HTTP/1.1 200 OK\"\n",
      "INFO:httpx:HTTP Request: POST http://localhost:11434/api/embeddings \"HTTP/1.1 200 OK\"\n",
      "INFO:httpx:HTTP Request: POST http://localhost:11434/api/embeddings \"HTTP/1.1 200 OK\"\n",
      "INFO:httpx:HTTP Request: POST http://localhost:11434/api/embeddings \"HTTP/1.1 200 OK\"\n",
      "INFO:httpx:HTTP Request: POST http://localhost:11434/api/embeddings \"HTTP/1.1 200 OK\"\n",
      "INFO:httpx:HTTP Request: POST http://localhost:11434/api/embeddings \"HTTP/1.1 200 OK\"\n",
      "INFO:httpx:HTTP Request: POST http://localhost:11434/api/embeddings \"HTTP/1.1 200 OK\"\n",
      "INFO:httpx:HTTP Request: POST http://localhost:11434/api/embeddings \"HTTP/1.1 200 OK\"\n",
      "INFO:httpx:HTTP Request: POST http://localhost:11434/api/embeddings \"HTTP/1.1 200 OK\"\n",
      "INFO:httpx:HTTP Request: POST http://localhost:11434/api/embeddings \"HTTP/1.1 200 OK\"\n",
      "INFO:httpx:HTTP Request: POST http://localhost:11434/api/embeddings \"HTTP/1.1 200 OK\"\n",
      "INFO:httpx:HTTP Request: POST http://localhost:11434/api/embeddings \"HTTP/1.1 200 OK\"\n",
      "INFO:httpx:HTTP Request: POST http://localhost:11434/api/embeddings \"HTTP/1.1 200 OK\"\n",
      "INFO:httpx:HTTP Request: POST http://localhost:11434/api/embeddings \"HTTP/1.1 200 OK\"\n",
      "INFO:httpx:HTTP Request: POST http://localhost:11434/api/embeddings \"HTTP/1.1 200 OK\"\n",
      "INFO:httpx:HTTP Request: POST http://localhost:11434/api/embeddings \"HTTP/1.1 200 OK\"\n",
      "INFO:httpx:HTTP Request: POST http://localhost:11434/api/embeddings \"HTTP/1.1 200 OK\"\n",
      "INFO:httpx:HTTP Request: POST http://localhost:11434/api/embeddings \"HTTP/1.1 200 OK\"\n",
      "INFO:httpx:HTTP Request: POST http://localhost:11434/api/embeddings \"HTTP/1.1 200 OK\"\n",
      "INFO:httpx:HTTP Request: POST http://localhost:11434/api/embeddings \"HTTP/1.1 200 OK\"\n",
      "INFO:httpx:HTTP Request: POST http://localhost:11434/api/embeddings \"HTTP/1.1 200 OK\"\n",
      "INFO:httpx:HTTP Request: POST http://localhost:11434/api/embeddings \"HTTP/1.1 200 OK\"\n",
      "INFO:httpx:HTTP Request: POST http://localhost:11434/api/embeddings \"HTTP/1.1 200 OK\"\n",
      "INFO:httpx:HTTP Request: POST http://localhost:11434/api/embeddings \"HTTP/1.1 200 OK\"\n",
      "INFO:httpx:HTTP Request: POST http://localhost:11434/api/embeddings \"HTTP/1.1 200 OK\"\n",
      "INFO:httpx:HTTP Request: POST http://localhost:11434/api/embeddings \"HTTP/1.1 200 OK\"\n",
      "INFO:httpx:HTTP Request: POST http://localhost:11434/api/embeddings \"HTTP/1.1 200 OK\"\n",
      "INFO:httpx:HTTP Request: POST http://localhost:11434/api/embeddings \"HTTP/1.1 200 OK\"\n",
      "INFO:httpx:HTTP Request: POST http://localhost:11434/api/embeddings \"HTTP/1.1 200 OK\"\n",
      "INFO:httpx:HTTP Request: POST http://localhost:11434/api/embeddings \"HTTP/1.1 200 OK\"\n",
      "INFO:httpx:HTTP Request: POST http://localhost:11434/api/embeddings \"HTTP/1.1 200 OK\"\n",
      "INFO:httpx:HTTP Request: POST http://localhost:11434/api/embeddings \"HTTP/1.1 200 OK\"\n",
      "INFO:httpx:HTTP Request: POST http://localhost:11434/api/embeddings \"HTTP/1.1 200 OK\"\n",
      "INFO:httpx:HTTP Request: POST http://localhost:11434/api/embeddings \"HTTP/1.1 200 OK\"\n",
      "INFO:httpx:HTTP Request: POST http://localhost:11434/api/embeddings \"HTTP/1.1 200 OK\"\n",
      "INFO:httpx:HTTP Request: POST http://localhost:11434/api/embeddings \"HTTP/1.1 200 OK\"\n",
      "INFO:httpx:HTTP Request: POST http://localhost:11434/api/embeddings \"HTTP/1.1 200 OK\"\n",
      "INFO:httpx:HTTP Request: POST http://localhost:11434/api/embeddings \"HTTP/1.1 200 OK\"\n",
      "INFO:httpx:HTTP Request: POST http://localhost:11434/api/embeddings \"HTTP/1.1 200 OK\"\n",
      "INFO:httpx:HTTP Request: POST http://localhost:11434/api/embeddings \"HTTP/1.1 200 OK\"\n",
      "INFO:httpx:HTTP Request: POST http://localhost:11434/api/embeddings \"HTTP/1.1 200 OK\"\n",
      "INFO:httpx:HTTP Request: POST http://localhost:11434/api/embeddings \"HTTP/1.1 200 OK\"\n",
      "INFO:httpx:HTTP Request: POST http://localhost:11434/api/embeddings \"HTTP/1.1 200 OK\"\n",
      "INFO:httpx:HTTP Request: POST http://localhost:11434/api/embeddings \"HTTP/1.1 200 OK\"\n",
      "INFO:httpx:HTTP Request: POST http://localhost:11434/api/embeddings \"HTTP/1.1 200 OK\"\n",
      "INFO:httpx:HTTP Request: POST http://localhost:11434/api/embeddings \"HTTP/1.1 200 OK\"\n",
      "INFO:httpx:HTTP Request: POST http://localhost:11434/api/embeddings \"HTTP/1.1 200 OK\"\n",
      "INFO:httpx:HTTP Request: POST http://localhost:11434/api/embeddings \"HTTP/1.1 200 OK\"\n",
      "INFO:httpx:HTTP Request: POST http://localhost:11434/api/embeddings \"HTTP/1.1 200 OK\"\n",
      "INFO:httpx:HTTP Request: POST http://localhost:11434/api/embeddings \"HTTP/1.1 200 OK\"\n",
      "INFO:httpx:HTTP Request: POST http://localhost:11434/api/embeddings \"HTTP/1.1 200 OK\"\n",
      "INFO:httpx:HTTP Request: POST http://localhost:11434/api/embeddings \"HTTP/1.1 200 OK\"\n",
      "INFO:httpx:HTTP Request: POST http://localhost:11434/api/embeddings \"HTTP/1.1 200 OK\"\n",
      "INFO:httpx:HTTP Request: POST http://localhost:11434/api/embeddings \"HTTP/1.1 200 OK\"\n",
      "INFO:httpx:HTTP Request: POST http://localhost:11434/api/embeddings \"HTTP/1.1 200 OK\"\n",
      "INFO:httpx:HTTP Request: POST http://localhost:11434/api/embeddings \"HTTP/1.1 200 OK\"\n",
      "INFO:httpx:HTTP Request: POST http://localhost:11434/api/embeddings \"HTTP/1.1 200 OK\"\n",
      "INFO:httpx:HTTP Request: POST http://localhost:11434/api/embeddings \"HTTP/1.1 200 OK\"\n",
      "INFO:httpx:HTTP Request: POST http://localhost:11434/api/embeddings \"HTTP/1.1 200 OK\"\n",
      "INFO:httpx:HTTP Request: POST http://localhost:11434/api/embeddings \"HTTP/1.1 200 OK\"\n",
      "INFO:httpx:HTTP Request: POST http://localhost:11434/api/embeddings \"HTTP/1.1 200 OK\"\n",
      "INFO:httpx:HTTP Request: POST http://localhost:11434/api/embeddings \"HTTP/1.1 200 OK\"\n",
      "INFO:httpx:HTTP Request: POST http://localhost:11434/api/embeddings \"HTTP/1.1 200 OK\"\n",
      "INFO:httpx:HTTP Request: POST http://localhost:11434/api/embeddings \"HTTP/1.1 200 OK\"\n",
      "INFO:httpx:HTTP Request: POST http://localhost:11434/api/embeddings \"HTTP/1.1 200 OK\"\n",
      "INFO:httpx:HTTP Request: POST http://localhost:11434/api/embeddings \"HTTP/1.1 200 OK\"\n",
      "INFO:httpx:HTTP Request: POST http://localhost:11434/api/embeddings \"HTTP/1.1 200 OK\"\n",
      "INFO:httpx:HTTP Request: POST http://localhost:11434/api/embeddings \"HTTP/1.1 200 OK\"\n",
      "INFO:httpx:HTTP Request: POST http://localhost:11434/api/embeddings \"HTTP/1.1 200 OK\"\n",
      "INFO:httpx:HTTP Request: POST http://localhost:11434/api/embeddings \"HTTP/1.1 200 OK\"\n",
      "INFO:httpx:HTTP Request: POST http://localhost:11434/api/embeddings \"HTTP/1.1 200 OK\"\n",
      "INFO:httpx:HTTP Request: POST http://localhost:11434/api/embeddings \"HTTP/1.1 200 OK\"\n",
      "INFO:httpx:HTTP Request: POST http://localhost:11434/api/embeddings \"HTTP/1.1 200 OK\"\n",
      "INFO:httpx:HTTP Request: POST http://localhost:11434/api/embeddings \"HTTP/1.1 200 OK\"\n",
      "INFO:httpx:HTTP Request: POST http://localhost:11434/api/embeddings \"HTTP/1.1 200 OK\"\n",
      "INFO:httpx:HTTP Request: POST http://localhost:11434/api/embeddings \"HTTP/1.1 200 OK\"\n",
      "INFO:httpx:HTTP Request: POST http://localhost:11434/api/embeddings \"HTTP/1.1 200 OK\"\n",
      "INFO:httpx:HTTP Request: POST http://localhost:11434/api/embeddings \"HTTP/1.1 200 OK\"\n",
      "INFO:httpx:HTTP Request: POST http://localhost:11434/api/embeddings \"HTTP/1.1 200 OK\"\n",
      "INFO:httpx:HTTP Request: POST http://localhost:11434/api/embeddings \"HTTP/1.1 200 OK\"\n",
      "INFO:httpx:HTTP Request: POST http://localhost:11434/api/embeddings \"HTTP/1.1 200 OK\"\n",
      "INFO:httpx:HTTP Request: POST http://localhost:11434/api/embeddings \"HTTP/1.1 200 OK\"\n",
      "INFO:httpx:HTTP Request: POST http://localhost:11434/api/embeddings \"HTTP/1.1 200 OK\"\n",
      "INFO:httpx:HTTP Request: POST http://localhost:11434/api/embeddings \"HTTP/1.1 200 OK\"\n",
      "INFO:httpx:HTTP Request: POST http://localhost:11434/api/embeddings \"HTTP/1.1 200 OK\"\n",
      "INFO:httpx:HTTP Request: POST http://localhost:11434/api/embeddings \"HTTP/1.1 200 OK\"\n",
      "INFO:httpx:HTTP Request: POST http://localhost:11434/api/embeddings \"HTTP/1.1 200 OK\"\n",
      "INFO:httpx:HTTP Request: POST http://localhost:11434/api/embeddings \"HTTP/1.1 200 OK\"\n",
      "INFO:httpx:HTTP Request: POST http://localhost:11434/api/embeddings \"HTTP/1.1 200 OK\"\n",
      "INFO:httpx:HTTP Request: POST http://localhost:11434/api/embeddings \"HTTP/1.1 200 OK\"\n",
      "INFO:httpx:HTTP Request: POST http://localhost:11434/api/embeddings \"HTTP/1.1 200 OK\"\n",
      "INFO:httpx:HTTP Request: POST http://localhost:11434/api/embeddings \"HTTP/1.1 200 OK\"\n",
      "INFO:httpx:HTTP Request: POST http://localhost:11434/api/embeddings \"HTTP/1.1 200 OK\"\n",
      "INFO:httpx:HTTP Request: POST http://localhost:11434/api/embeddings \"HTTP/1.1 200 OK\"\n",
      "INFO:httpx:HTTP Request: POST http://localhost:11434/api/embeddings \"HTTP/1.1 200 OK\"\n",
      "INFO:httpx:HTTP Request: POST http://localhost:11434/api/embeddings \"HTTP/1.1 200 OK\"\n",
      "INFO:httpx:HTTP Request: POST http://localhost:11434/api/embeddings \"HTTP/1.1 200 OK\"\n",
      "INFO:httpx:HTTP Request: POST http://localhost:11434/api/embeddings \"HTTP/1.1 200 OK\"\n",
      "INFO:httpx:HTTP Request: POST http://localhost:11434/api/embeddings \"HTTP/1.1 200 OK\"\n",
      "INFO:httpx:HTTP Request: POST http://localhost:11434/api/embeddings \"HTTP/1.1 200 OK\"\n",
      "INFO:httpx:HTTP Request: POST http://localhost:11434/api/embeddings \"HTTP/1.1 200 OK\"\n",
      "INFO:httpx:HTTP Request: POST http://localhost:11434/api/embeddings \"HTTP/1.1 200 OK\"\n",
      "INFO:httpx:HTTP Request: POST http://localhost:11434/api/embeddings \"HTTP/1.1 200 OK\"\n",
      "INFO:httpx:HTTP Request: POST http://localhost:11434/api/embeddings \"HTTP/1.1 200 OK\"\n",
      "INFO:httpx:HTTP Request: POST http://localhost:11434/api/embeddings \"HTTP/1.1 200 OK\"\n",
      "INFO:httpx:HTTP Request: POST http://localhost:11434/api/embeddings \"HTTP/1.1 200 OK\"\n",
      "INFO:httpx:HTTP Request: POST http://localhost:11434/api/embeddings \"HTTP/1.1 200 OK\"\n",
      "INFO:httpx:HTTP Request: POST http://localhost:11434/api/embeddings \"HTTP/1.1 200 OK\"\n",
      "INFO:httpx:HTTP Request: POST http://localhost:11434/api/embeddings \"HTTP/1.1 200 OK\"\n",
      "INFO:httpx:HTTP Request: POST http://localhost:11434/api/embeddings \"HTTP/1.1 200 OK\"\n",
      "INFO:httpx:HTTP Request: POST http://localhost:11434/api/embeddings \"HTTP/1.1 200 OK\"\n",
      "INFO:httpx:HTTP Request: POST http://localhost:11434/api/embeddings \"HTTP/1.1 200 OK\"\n",
      "INFO:httpx:HTTP Request: POST http://localhost:11434/api/embeddings \"HTTP/1.1 200 OK\"\n",
      "INFO:httpx:HTTP Request: POST http://localhost:11434/api/embeddings \"HTTP/1.1 200 OK\"\n",
      "INFO:httpx:HTTP Request: POST http://localhost:11434/api/embeddings \"HTTP/1.1 200 OK\"\n",
      "INFO:httpx:HTTP Request: POST http://localhost:11434/api/embeddings \"HTTP/1.1 200 OK\"\n",
      "INFO:httpx:HTTP Request: POST http://localhost:11434/api/embeddings \"HTTP/1.1 200 OK\"\n",
      "INFO:httpx:HTTP Request: POST http://localhost:11434/api/embeddings \"HTTP/1.1 200 OK\"\n",
      "INFO:httpx:HTTP Request: POST http://localhost:11434/api/embeddings \"HTTP/1.1 200 OK\"\n",
      "INFO:httpx:HTTP Request: POST http://localhost:11434/api/embeddings \"HTTP/1.1 200 OK\"\n",
      "INFO:httpx:HTTP Request: POST http://localhost:11434/api/embeddings \"HTTP/1.1 200 OK\"\n",
      "INFO:httpx:HTTP Request: POST http://localhost:11434/api/embeddings \"HTTP/1.1 200 OK\"\n",
      "INFO:httpx:HTTP Request: POST http://localhost:11434/api/embeddings \"HTTP/1.1 200 OK\"\n",
      "INFO:httpx:HTTP Request: POST http://localhost:11434/api/embeddings \"HTTP/1.1 200 OK\"\n",
      "INFO:httpx:HTTP Request: POST http://localhost:11434/api/embeddings \"HTTP/1.1 200 OK\"\n",
      "INFO:httpx:HTTP Request: POST http://localhost:11434/api/embeddings \"HTTP/1.1 200 OK\"\n",
      "INFO:httpx:HTTP Request: POST http://localhost:11434/api/embeddings \"HTTP/1.1 200 OK\"\n",
      "INFO:httpx:HTTP Request: POST http://localhost:11434/api/embeddings \"HTTP/1.1 200 OK\"\n",
      "INFO:httpx:HTTP Request: POST http://localhost:11434/api/embeddings \"HTTP/1.1 200 OK\"\n",
      "INFO:httpx:HTTP Request: POST http://localhost:11434/api/embeddings \"HTTP/1.1 200 OK\"\n",
      "INFO:httpx:HTTP Request: POST http://localhost:11434/api/embeddings \"HTTP/1.1 200 OK\"\n",
      "INFO:httpx:HTTP Request: POST http://localhost:11434/api/embeddings \"HTTP/1.1 200 OK\"\n",
      "INFO:httpx:HTTP Request: POST http://localhost:11434/api/embeddings \"HTTP/1.1 200 OK\"\n",
      "INFO:httpx:HTTP Request: POST http://localhost:11434/api/embeddings \"HTTP/1.1 200 OK\"\n",
      "INFO:httpx:HTTP Request: POST http://localhost:11434/api/embeddings \"HTTP/1.1 200 OK\"\n",
      "INFO:httpx:HTTP Request: POST http://localhost:11434/api/embeddings \"HTTP/1.1 200 OK\"\n",
      "INFO:httpx:HTTP Request: POST http://localhost:11434/api/embeddings \"HTTP/1.1 200 OK\"\n",
      "INFO:httpx:HTTP Request: POST http://localhost:11434/api/embeddings \"HTTP/1.1 200 OK\"\n",
      "INFO:httpx:HTTP Request: POST http://localhost:11434/api/embeddings \"HTTP/1.1 200 OK\"\n",
      "INFO:httpx:HTTP Request: POST http://localhost:11434/api/embeddings \"HTTP/1.1 200 OK\"\n",
      "INFO:httpx:HTTP Request: POST http://localhost:11434/api/embeddings \"HTTP/1.1 200 OK\"\n",
      "INFO:httpx:HTTP Request: POST http://localhost:11434/api/embeddings \"HTTP/1.1 200 OK\"\n",
      "INFO:httpx:HTTP Request: POST http://localhost:11434/api/embeddings \"HTTP/1.1 200 OK\"\n",
      "INFO:httpx:HTTP Request: POST http://localhost:11434/api/embeddings \"HTTP/1.1 200 OK\"\n",
      "INFO:httpx:HTTP Request: POST http://localhost:11434/api/embeddings \"HTTP/1.1 200 OK\"\n",
      "INFO:httpx:HTTP Request: POST http://localhost:11434/api/embeddings \"HTTP/1.1 200 OK\"\n",
      "INFO:httpx:HTTP Request: POST http://localhost:11434/api/embeddings \"HTTP/1.1 200 OK\"\n",
      "INFO:httpx:HTTP Request: POST http://localhost:11434/api/embeddings \"HTTP/1.1 200 OK\"\n",
      "INFO:httpx:HTTP Request: POST http://localhost:11434/api/embeddings \"HTTP/1.1 200 OK\"\n",
      "INFO:httpx:HTTP Request: POST http://localhost:11434/api/embeddings \"HTTP/1.1 200 OK\"\n",
      "INFO:httpx:HTTP Request: POST http://localhost:11434/api/embeddings \"HTTP/1.1 200 OK\"\n",
      "INFO:httpx:HTTP Request: POST http://localhost:11434/api/embeddings \"HTTP/1.1 200 OK\"\n",
      "INFO:httpx:HTTP Request: POST http://localhost:11434/api/embeddings \"HTTP/1.1 200 OK\"\n",
      "INFO:httpx:HTTP Request: POST http://localhost:11434/api/embeddings \"HTTP/1.1 200 OK\"\n",
      "INFO:httpx:HTTP Request: POST http://localhost:11434/api/embeddings \"HTTP/1.1 200 OK\"\n",
      "INFO:httpx:HTTP Request: POST http://localhost:11434/api/embeddings \"HTTP/1.1 200 OK\"\n",
      "INFO:httpx:HTTP Request: POST http://localhost:11434/api/embeddings \"HTTP/1.1 200 OK\"\n",
      "INFO:httpx:HTTP Request: POST http://localhost:11434/api/embeddings \"HTTP/1.1 200 OK\"\n",
      "INFO:httpx:HTTP Request: POST http://localhost:11434/api/embeddings \"HTTP/1.1 200 OK\"\n",
      "INFO:httpx:HTTP Request: POST http://localhost:11434/api/embeddings \"HTTP/1.1 200 OK\"\n",
      "INFO:httpx:HTTP Request: POST http://localhost:11434/api/embeddings \"HTTP/1.1 200 OK\"\n",
      "INFO:httpx:HTTP Request: POST http://localhost:11434/api/embeddings \"HTTP/1.1 200 OK\"\n",
      "INFO:httpx:HTTP Request: POST http://localhost:11434/api/embeddings \"HTTP/1.1 200 OK\"\n",
      "INFO:httpx:HTTP Request: POST http://localhost:11434/api/embeddings \"HTTP/1.1 200 OK\"\n",
      "INFO:httpx:HTTP Request: POST http://localhost:11434/api/embeddings \"HTTP/1.1 200 OK\"\n",
      "INFO:httpx:HTTP Request: POST http://localhost:11434/api/embeddings \"HTTP/1.1 200 OK\"\n",
      "INFO:httpx:HTTP Request: POST http://localhost:11434/api/embeddings \"HTTP/1.1 200 OK\"\n",
      "INFO:httpx:HTTP Request: POST http://localhost:11434/api/embeddings \"HTTP/1.1 200 OK\"\n",
      "INFO:httpx:HTTP Request: POST http://localhost:11434/api/embeddings \"HTTP/1.1 200 OK\"\n",
      "INFO:httpx:HTTP Request: POST http://localhost:11434/api/embeddings \"HTTP/1.1 200 OK\"\n",
      "INFO:httpx:HTTP Request: POST http://localhost:11434/api/embeddings \"HTTP/1.1 200 OK\"\n",
      "INFO:httpx:HTTP Request: POST http://localhost:11434/api/embeddings \"HTTP/1.1 200 OK\"\n",
      "INFO:httpx:HTTP Request: POST http://localhost:11434/api/embeddings \"HTTP/1.1 200 OK\"\n",
      "INFO:httpx:HTTP Request: POST http://localhost:11434/api/embeddings \"HTTP/1.1 200 OK\"\n",
      "INFO:httpx:HTTP Request: POST http://localhost:11434/api/embeddings \"HTTP/1.1 200 OK\"\n",
      "INFO:httpx:HTTP Request: POST http://localhost:11434/api/embeddings \"HTTP/1.1 200 OK\"\n",
      "INFO:httpx:HTTP Request: POST http://localhost:11434/api/embeddings \"HTTP/1.1 200 OK\"\n",
      "INFO:httpx:HTTP Request: POST http://localhost:11434/api/embeddings \"HTTP/1.1 200 OK\"\n",
      "INFO:httpx:HTTP Request: POST http://localhost:11434/api/embeddings \"HTTP/1.1 200 OK\"\n",
      "INFO:httpx:HTTP Request: POST http://localhost:11434/api/embeddings \"HTTP/1.1 200 OK\"\n",
      "INFO:httpx:HTTP Request: POST http://localhost:11434/api/embeddings \"HTTP/1.1 200 OK\"\n",
      "INFO:httpx:HTTP Request: POST http://localhost:11434/api/embeddings \"HTTP/1.1 200 OK\"\n",
      "INFO:httpx:HTTP Request: POST http://localhost:11434/api/embeddings \"HTTP/1.1 200 OK\"\n",
      "INFO:httpx:HTTP Request: POST http://localhost:11434/api/embeddings \"HTTP/1.1 200 OK\"\n",
      "INFO:httpx:HTTP Request: POST http://localhost:11434/api/embeddings \"HTTP/1.1 200 OK\"\n",
      "INFO:httpx:HTTP Request: POST http://localhost:11434/api/embeddings \"HTTP/1.1 200 OK\"\n",
      "INFO:httpx:HTTP Request: POST http://localhost:11434/api/embeddings \"HTTP/1.1 200 OK\"\n",
      "INFO:httpx:HTTP Request: POST http://localhost:11434/api/embeddings \"HTTP/1.1 200 OK\"\n",
      "INFO:httpx:HTTP Request: POST http://localhost:11434/api/embeddings \"HTTP/1.1 200 OK\"\n",
      "INFO:httpx:HTTP Request: POST http://localhost:11434/api/embeddings \"HTTP/1.1 200 OK\"\n",
      "INFO:httpx:HTTP Request: POST http://localhost:11434/api/embeddings \"HTTP/1.1 200 OK\"\n",
      "INFO:httpx:HTTP Request: POST http://localhost:11434/api/embeddings \"HTTP/1.1 200 OK\"\n",
      "INFO:httpx:HTTP Request: POST http://localhost:11434/api/embeddings \"HTTP/1.1 200 OK\"\n",
      "INFO:httpx:HTTP Request: POST http://localhost:11434/api/embeddings \"HTTP/1.1 200 OK\"\n",
      "INFO:httpx:HTTP Request: POST http://localhost:11434/api/embeddings \"HTTP/1.1 200 OK\"\n",
      "INFO:httpx:HTTP Request: POST http://localhost:11434/api/embeddings \"HTTP/1.1 200 OK\"\n",
      "INFO:httpx:HTTP Request: POST http://localhost:11434/api/embeddings \"HTTP/1.1 200 OK\"\n",
      "INFO:httpx:HTTP Request: POST http://localhost:11434/api/embeddings \"HTTP/1.1 200 OK\"\n",
      "INFO:httpx:HTTP Request: POST http://localhost:11434/api/embeddings \"HTTP/1.1 200 OK\"\n",
      "INFO:httpx:HTTP Request: POST http://localhost:11434/api/embeddings \"HTTP/1.1 200 OK\"\n",
      "INFO:httpx:HTTP Request: POST http://localhost:11434/api/embeddings \"HTTP/1.1 200 OK\"\n",
      "INFO:httpx:HTTP Request: POST http://localhost:11434/api/embeddings \"HTTP/1.1 200 OK\"\n",
      "INFO:httpx:HTTP Request: POST http://localhost:11434/api/embeddings \"HTTP/1.1 200 OK\"\n",
      "INFO:httpx:HTTP Request: POST http://localhost:11434/api/embeddings \"HTTP/1.1 200 OK\"\n",
      "INFO:httpx:HTTP Request: POST http://localhost:11434/api/embeddings \"HTTP/1.1 200 OK\"\n",
      "INFO:httpx:HTTP Request: POST http://localhost:11434/api/embeddings \"HTTP/1.1 200 OK\"\n",
      "INFO:httpx:HTTP Request: POST http://localhost:11434/api/embeddings \"HTTP/1.1 200 OK\"\n"
     ]
    }
   ],
   "source": [
    "## Load index into vector index\n",
    "from llama_index.core import VectorStoreIndex\n",
    "\n",
    "base_index = VectorStoreIndex(\n",
    "    leaf_nodes,\n",
    "    storage_context=storage_context,\n",
    ")"
   ]
  },
  {
   "cell_type": "code",
   "execution_count": 16,
   "metadata": {},
   "outputs": [
    {
     "name": "stderr",
     "output_type": "stream",
     "text": [
      "INFO:httpx:HTTP Request: POST http://localhost:11434/api/embeddings \"HTTP/1.1 200 OK\"\n"
     ]
    }
   ],
   "source": [
    "retriever = base_index.as_retriever()\n",
    "out = retriever.retrieve(\"who are the authors of this paper\")"
   ]
  },
  {
   "cell_type": "code",
   "execution_count": 17,
   "metadata": {},
   "outputs": [
    {
     "data": {
      "text/plain": [
       "[NodeWithScore(node=TextNode(id_='9836a8d4-b6c5-411d-9d9c-37821514e51e', embedding=None, metadata={'page_label': '9', 'file_name': '1711.11248v3.pdf', 'file_path': '/home/t/atest/llamaindex-agents/data/1711.11248v3.pdf', 'file_type': 'application/pdf', 'file_size': 2395882, 'creation_date': '2024-08-11', 'last_modified_date': '2024-06-18'}, excluded_embed_metadata_keys=['file_name', 'file_type', 'file_size', 'creation_date', 'last_modified_date', 'last_accessed_date'], excluded_llm_metadata_keys=['file_name', 'file_type', 'file_size', 'creation_date', 'last_modified_date', 'last_accessed_date'], relationships={<NodeRelationship.SOURCE: '1'>: RelatedNodeInfo(node_id='41ae8b55-a086-499c-a583-16c74ebbc4d4', node_type=<ObjectType.DOCUMENT: '4'>, metadata={'page_label': '9', 'file_name': '1711.11248v3.pdf', 'file_path': '/home/t/atest/llamaindex-agents/data/1711.11248v3.pdf', 'file_type': 'application/pdf', 'file_size': 2395882, 'creation_date': '2024-08-11', 'last_modified_date': '2024-06-18'}, hash='1dbd518e779f8d271177e35f9d28ddaeb238bd5e3206e25d2c4ed063538b0d69'), <NodeRelationship.PREVIOUS: '2'>: RelatedNodeInfo(node_id='5a389f24-d648-4018-8a5c-7e72b5ae75b9', node_type=<ObjectType.TEXT: '1'>, metadata={'page_label': '9', 'file_name': '1711.11248v3.pdf', 'file_path': '/home/t/atest/llamaindex-agents/data/1711.11248v3.pdf', 'file_type': 'application/pdf', 'file_size': 2395882, 'creation_date': '2024-08-11', 'last_modified_date': '2024-06-18'}, hash='5dba8edec654bed5c52de379e1ffe73e66030c3f22d9b2e1682187736d5d7620'), <NodeRelationship.PARENT: '4'>: RelatedNodeInfo(node_id='b016ec68-ee2c-41d6-98de-e0ab948306b3', node_type=<ObjectType.TEXT: '1'>, metadata={'page_label': '9', 'file_name': '1711.11248v3.pdf', 'file_path': '/home/t/atest/llamaindex-agents/data/1711.11248v3.pdf', 'file_type': 'application/pdf', 'file_size': 2395882, 'creation_date': '2024-08-11', 'last_modified_date': '2024-06-18'}, hash='7ce88ba409b8ae281cb9899b12f84f030b6cc6c30000b524db098dd5b12797b4')}, text='6\\n[4] J. Carreira and A. Zisserman. Quo vadis, action recognition?', mimetype='text/plain', start_char_idx=1305, end_char_idx=1371, text_template='{metadata_str}\\n\\n{content}', metadata_template='{key}: {value}', metadata_seperator='\\n'), score=0.28856647380396205),\n",
       " NodeWithScore(node=TextNode(id_='f19b0f50-2120-4a52-bcfe-f88c2307acf8', embedding=None, metadata={'page_label': '10', 'file_name': '1711.11248v3.pdf', 'file_path': '/home/t/atest/llamaindex-agents/data/1711.11248v3.pdf', 'file_type': 'application/pdf', 'file_size': 2395882, 'creation_date': '2024-08-11', 'last_modified_date': '2024-06-18'}, excluded_embed_metadata_keys=['file_name', 'file_type', 'file_size', 'creation_date', 'last_modified_date', 'last_accessed_date'], excluded_llm_metadata_keys=['file_name', 'file_type', 'file_size', 'creation_date', 'last_modified_date', 'last_accessed_date'], relationships={<NodeRelationship.SOURCE: '1'>: RelatedNodeInfo(node_id='dea8506d-c2fd-4614-8871-40d808684318', node_type=<ObjectType.DOCUMENT: '4'>, metadata={'page_label': '10', 'file_name': '1711.11248v3.pdf', 'file_path': '/home/t/atest/llamaindex-agents/data/1711.11248v3.pdf', 'file_type': 'application/pdf', 'file_size': 2395882, 'creation_date': '2024-08-11', 'last_modified_date': '2024-06-18'}, hash='a712f448fda94103245537cc2d7a240adb3a5994e1c151d9e031fed790cabfeb'), <NodeRelationship.PARENT: '4'>: RelatedNodeInfo(node_id='310e24b4-fc02-4a48-a522-b6fe2c782549', node_type=<ObjectType.TEXT: '1'>, metadata={'page_label': '10', 'file_name': '1711.11248v3.pdf', 'file_path': '/home/t/atest/llamaindex-agents/data/1711.11248v3.pdf', 'file_type': 'application/pdf', 'file_size': 2395882, 'creation_date': '2024-08-11', 'last_modified_date': '2024-06-18'}, hash='fd7161eeadb9b8b01100ae3d0d8d4e5328f3a250966f4b2d2e17b0b8fab849e8')}, text='Jia, P. Sermanet, S. Reed,\\nD. Anguelov, D. Erhan, V . Vanhoucke, and A. Rabinovich.\\nGoing deeper with convolutions. In CVPR , 2015. 1\\n[35] G. W. Taylor, R. Fergus, Y . LeCun, and C. Bregler.', mimetype='text/plain', start_char_idx=0, end_char_idx=190, text_template='{metadata_str}\\n\\n{content}', metadata_template='{key}: {value}', metadata_seperator='\\n'), score=0.2826974511159945)]"
      ]
     },
     "execution_count": 17,
     "metadata": {},
     "output_type": "execute_result"
    }
   ],
   "source": [
    "out"
   ]
  },
  {
   "cell_type": "markdown",
   "metadata": {},
   "source": [
    "## Define Retriever¶\n"
   ]
  },
  {
   "cell_type": "code",
   "execution_count": 18,
   "metadata": {},
   "outputs": [],
   "source": [
    "from llama_index.core.retrievers import AutoMergingRetriever"
   ]
  },
  {
   "cell_type": "code",
   "execution_count": 19,
   "metadata": {},
   "outputs": [],
   "source": [
    "base_retriever = base_index.as_retriever(similarity_top_k=6)\n",
    "retriever = AutoMergingRetriever(base_retriever, storage_context, verbose=True)"
   ]
  },
  {
   "cell_type": "code",
   "execution_count": 20,
   "metadata": {},
   "outputs": [
    {
     "name": "stderr",
     "output_type": "stream",
     "text": [
      "INFO:httpx:HTTP Request: POST http://localhost:11434/api/embeddings \"HTTP/1.1 200 OK\"\n"
     ]
    },
    {
     "data": {
      "text/plain": [
       "[NodeWithScore(node=TextNode(id_='4512edfc-4f9c-44be-afa9-f0987613406f', embedding=None, metadata={'page_label': '4', 'file_name': '1711.11248v3.pdf', 'file_path': '/home/t/atest/llamaindex-agents/data/1711.11248v3.pdf', 'file_type': 'application/pdf', 'file_size': 2395882, 'creation_date': '2024-08-11', 'last_modified_date': '2024-06-18'}, excluded_embed_metadata_keys=['file_name', 'file_type', 'file_size', 'creation_date', 'last_modified_date', 'last_accessed_date'], excluded_llm_metadata_keys=['file_name', 'file_type', 'file_size', 'creation_date', 'last_modified_date', 'last_accessed_date'], relationships={<NodeRelationship.SOURCE: '1'>: RelatedNodeInfo(node_id='7e87c6eb-601b-40e5-b2d4-d5908c263745', node_type=<ObjectType.DOCUMENT: '4'>, metadata={'page_label': '4', 'file_name': '1711.11248v3.pdf', 'file_path': '/home/t/atest/llamaindex-agents/data/1711.11248v3.pdf', 'file_type': 'application/pdf', 'file_size': 2395882, 'creation_date': '2024-08-11', 'last_modified_date': '2024-06-18'}, hash='917c9ffee9dda4a7172881b3dc600229c40ed253b8322a50059ea6e70b7740c6'), <NodeRelationship.PREVIOUS: '2'>: RelatedNodeInfo(node_id='8f4f4d51-6674-43fa-a64b-86fedfa5f753', node_type=<ObjectType.TEXT: '1'>, metadata={'page_label': '4', 'file_name': '1711.11248v3.pdf', 'file_path': '/home/t/atest/llamaindex-agents/data/1711.11248v3.pdf', 'file_type': 'application/pdf', 'file_size': 2395882, 'creation_date': '2024-08-11', 'last_modified_date': '2024-06-18'}, hash='3d657e3d3359c5bd3c473fe7e188bf426c388d6c59ca0fd31b89abe45b7b50bb'), <NodeRelationship.PARENT: '4'>: RelatedNodeInfo(node_id='173a9e0f-4c38-4236-ad34-6054a410f6d2', node_type=<ObjectType.TEXT: '1'>, metadata={'page_label': '4', 'file_name': '1711.11248v3.pdf', 'file_path': '/home/t/atest/llamaindex-agents/data/1711.11248v3.pdf', 'file_type': 'application/pdf', 'file_size': 2395882, 'creation_date': '2024-08-11', 'last_modified_date': '2024-06-18'}, hash='310cf19ada0abc87b369f48a8d79f3161841f387b4ad0be610db78caee7f76cd')}, text='We note that our factorization is closely related to\\nPseudo-3D blocks (P3D) [25], which were proposed to\\nadapt the bottleneck block of R2D to video classiﬁcation.\\nThree different pseudo-3D blocks were introduced: P3D-A,', mimetype='text/plain', start_char_idx=566, end_char_idx=785, text_template='{metadata_str}\\n\\n{content}', metadata_template='{key}: {value}', metadata_seperator='\\n'), score=0.3863546993619495),\n",
       " NodeWithScore(node=TextNode(id_='be143cd3-f0fe-4ebf-9866-801b7f071657', embedding=None, metadata={'page_label': '3', 'file_name': '1711.11248v3.pdf', 'file_path': '/home/t/atest/llamaindex-agents/data/1711.11248v3.pdf', 'file_type': 'application/pdf', 'file_size': 2395882, 'creation_date': '2024-08-11', 'last_modified_date': '2024-06-18'}, excluded_embed_metadata_keys=['file_name', 'file_type', 'file_size', 'creation_date', 'last_modified_date', 'last_accessed_date'], excluded_llm_metadata_keys=['file_name', 'file_type', 'file_size', 'creation_date', 'last_modified_date', 'last_accessed_date'], relationships={<NodeRelationship.SOURCE: '1'>: RelatedNodeInfo(node_id='5013e979-fff8-4b67-adca-c60c2f519e03', node_type=<ObjectType.DOCUMENT: '4'>, metadata={'page_label': '3', 'file_name': '1711.11248v3.pdf', 'file_path': '/home/t/atest/llamaindex-agents/data/1711.11248v3.pdf', 'file_type': 'application/pdf', 'file_size': 2395882, 'creation_date': '2024-08-11', 'last_modified_date': '2024-06-18'}, hash='b7280ad40ae50a1da5a2e7598ecf9cecaf7e201b5fb52b06a08b470cf04259f1'), <NodeRelationship.PREVIOUS: '2'>: RelatedNodeInfo(node_id='318b3d01-62bb-46c7-b4d3-bb995254e5f3', node_type=<ObjectType.TEXT: '1'>, metadata={'page_label': '3', 'file_name': '1711.11248v3.pdf', 'file_path': '/home/t/atest/llamaindex-agents/data/1711.11248v3.pdf', 'file_type': 'application/pdf', 'file_size': 2395882, 'creation_date': '2024-08-11', 'last_modified_date': '2024-06-18'}, hash='39094c2b355928081b488ab9c81f19543ca138764c5d9c4b40a679ffdce3be60'), <NodeRelationship.PARENT: '4'>: RelatedNodeInfo(node_id='740f11e5-2bfd-4325-8f28-2b0d65392b4d', node_type=<ObjectType.TEXT: '1'>, metadata={'page_label': '3', 'file_name': '1711.11248v3.pdf', 'file_path': '/home/t/atest/llamaindex-agents/data/1711.11248v3.pdf', 'file_type': 'application/pdf', 'file_size': 2395882, 'creation_date': '2024-08-11', 'last_modified_date': '2024-06-18'}, hash='d1781d4bb3d03a0b99fb8095aa5f7c0ac3f82c940c3066749e9cf73df59478f8')}, text='pool space-time pool space-time pool space-time pool space-time pool\\nclip clip clip clip clipFigure 1. Residual network architectures for video classiﬁcation considered in this work . (a) R2D are 2D ResNets; (b) MCx are\\nResNets with mixed convolutions (MC3 is presented in this ﬁgure);', mimetype='text/plain', start_char_idx=275, end_char_idx=560, text_template='{metadata_str}\\n\\n{content}', metadata_template='{key}: {value}', metadata_seperator='\\n'), score=0.35041537818576396),\n",
       " NodeWithScore(node=TextNode(id_='7ca787f0-029f-40f2-80a9-6b2afd50e6f3', embedding=None, metadata={'page_label': '3', 'file_name': '1711.11248v3.pdf', 'file_path': '/home/t/atest/llamaindex-agents/data/1711.11248v3.pdf', 'file_type': 'application/pdf', 'file_size': 2395882, 'creation_date': '2024-08-11', 'last_modified_date': '2024-06-18'}, excluded_embed_metadata_keys=['file_name', 'file_type', 'file_size', 'creation_date', 'last_modified_date', 'last_accessed_date'], excluded_llm_metadata_keys=['file_name', 'file_type', 'file_size', 'creation_date', 'last_modified_date', 'last_accessed_date'], relationships={<NodeRelationship.SOURCE: '1'>: RelatedNodeInfo(node_id='5013e979-fff8-4b67-adca-c60c2f519e03', node_type=<ObjectType.DOCUMENT: '4'>, metadata={'page_label': '3', 'file_name': '1711.11248v3.pdf', 'file_path': '/home/t/atest/llamaindex-agents/data/1711.11248v3.pdf', 'file_type': 'application/pdf', 'file_size': 2395882, 'creation_date': '2024-08-11', 'last_modified_date': '2024-06-18'}, hash='b7280ad40ae50a1da5a2e7598ecf9cecaf7e201b5fb52b06a08b470cf04259f1'), <NodeRelationship.PREVIOUS: '2'>: RelatedNodeInfo(node_id='c28f4dfc-7483-4ee2-8620-576a6c8cc139', node_type=<ObjectType.TEXT: '1'>, metadata={'page_label': '3', 'file_name': '1711.11248v3.pdf', 'file_path': '/home/t/atest/llamaindex-agents/data/1711.11248v3.pdf', 'file_type': 'application/pdf', 'file_size': 2395882, 'creation_date': '2024-08-11', 'last_modified_date': '2024-06-18'}, hash='3eef012b77fc9c1e2097b72a387770a10dbf489e4753e61e6d745813e4049842'), <NodeRelationship.PARENT: '4'>: RelatedNodeInfo(node_id='740f11e5-2bfd-4325-8f28-2b0d65392b4d', node_type=<ObjectType.TEXT: '1'>, metadata={'page_label': '3', 'file_name': '1711.11248v3.pdf', 'file_path': '/home/t/atest/llamaindex-agents/data/1711.11248v3.pdf', 'file_type': 'application/pdf', 'file_size': 2395882, 'creation_date': '2024-08-11', 'last_modified_date': '2024-06-18'}, hash='d1781d4bb3d03a0b99fb8095aa5f7c0ac3f82c940c3066749e9cf73df59478f8')}, text='For interpretability, residual connections are omitted.\\n3. Convolutional residual blocks for video\\nIn this section we discuss several spatiotemporal convo-\\nlutional variants within the framework of residual learning.\\nLetxdenote the input clip of size 3×L×H×W, whereL\\nis the number of frames in the clip, HandWare the frame\\nheight and width, and 3 refers to the RGB channels.', mimetype='text/plain', start_char_idx=702, end_char_idx=1076, text_template='{metadata_str}\\n\\n{content}', metadata_template='{key}: {value}', metadata_seperator='\\n'), score=0.34778207550741896),\n",
       " NodeWithScore(node=TextNode(id_='7f5eedec-067e-4687-b52f-0d2533efe7e3', embedding=None, metadata={'page_label': '2', 'file_name': '1711.11248v3.pdf', 'file_path': '/home/t/atest/llamaindex-agents/data/1711.11248v3.pdf', 'file_type': 'application/pdf', 'file_size': 2395882, 'creation_date': '2024-08-11', 'last_modified_date': '2024-06-18'}, excluded_embed_metadata_keys=['file_name', 'file_type', 'file_size', 'creation_date', 'last_modified_date', 'last_accessed_date'], excluded_llm_metadata_keys=['file_name', 'file_type', 'file_size', 'creation_date', 'last_modified_date', 'last_accessed_date'], relationships={<NodeRelationship.SOURCE: '1'>: RelatedNodeInfo(node_id='80e309be-df7d-4e91-935a-16c79299ef1f', node_type=<ObjectType.DOCUMENT: '4'>, metadata={'page_label': '2', 'file_name': '1711.11248v3.pdf', 'file_path': '/home/t/atest/llamaindex-agents/data/1711.11248v3.pdf', 'file_type': 'application/pdf', 'file_size': 2395882, 'creation_date': '2024-08-11', 'last_modified_date': '2024-06-18'}, hash='ec9d90df813ba19c39747b4521d524d264d15e0c9c5242e6ce19d65975b40ae8'), <NodeRelationship.PREVIOUS: '2'>: RelatedNodeInfo(node_id='34e25d4d-6321-43a3-af01-d8b45e150c0a', node_type=<ObjectType.TEXT: '1'>, metadata={'page_label': '2', 'file_name': '1711.11248v3.pdf', 'file_path': '/home/t/atest/llamaindex-agents/data/1711.11248v3.pdf', 'file_type': 'application/pdf', 'file_size': 2395882, 'creation_date': '2024-08-11', 'last_modified_date': '2024-06-18'}, hash='a7d9762e0317c039b426ca4ba7a75ce3e45cdc8fe4df8d03933c66f0ec65d305'), <NodeRelationship.PARENT: '4'>: RelatedNodeInfo(node_id='3822bb30-2be9-453d-8740-73b1af421cd6', node_type=<ObjectType.TEXT: '1'>, metadata={'page_label': '2', 'file_name': '1711.11248v3.pdf', 'file_path': '/home/t/atest/llamaindex-agents/data/1711.11248v3.pdf', 'file_type': 'application/pdf', 'file_size': 2395882, 'creation_date': '2024-08-11', 'last_modified_date': '2024-06-18'}, hash='be6f4fbcc79cc12ffde2d6659cebb6c8cb7db201e52879a44896a434d0bb29d4')}, text='2. Related Work\\nVideo understanding is one of the core computer vision\\nproblems and has been studied for decades. Many research\\ncontributions in video understanding have focused on de-\\nveloping spatiotemporal features for video analysis.', mimetype='text/plain', start_char_idx=290, end_char_idx=527, text_template='{metadata_str}\\n\\n{content}', metadata_template='{key}: {value}', metadata_seperator='\\n'), score=0.3467548665147201),\n",
       " NodeWithScore(node=TextNode(id_='d9be34d5-0fff-4c3d-b050-84041973fcd2', embedding=None, metadata={'page_label': '9', 'file_name': '1711.11248v3.pdf', 'file_path': '/home/t/atest/llamaindex-agents/data/1711.11248v3.pdf', 'file_type': 'application/pdf', 'file_size': 2395882, 'creation_date': '2024-08-11', 'last_modified_date': '2024-06-18'}, excluded_embed_metadata_keys=['file_name', 'file_type', 'file_size', 'creation_date', 'last_modified_date', 'last_accessed_date'], excluded_llm_metadata_keys=['file_name', 'file_type', 'file_size', 'creation_date', 'last_modified_date', 'last_accessed_date'], relationships={<NodeRelationship.SOURCE: '1'>: RelatedNodeInfo(node_id='41ae8b55-a086-499c-a583-16c74ebbc4d4', node_type=<ObjectType.DOCUMENT: '4'>, metadata={'page_label': '9', 'file_name': '1711.11248v3.pdf', 'file_path': '/home/t/atest/llamaindex-agents/data/1711.11248v3.pdf', 'file_type': 'application/pdf', 'file_size': 2395882, 'creation_date': '2024-08-11', 'last_modified_date': '2024-06-18'}, hash='1dbd518e779f8d271177e35f9d28ddaeb238bd5e3206e25d2c4ed063538b0d69'), <NodeRelationship.PREVIOUS: '2'>: RelatedNodeInfo(node_id='a55faa18-e74f-40b2-9431-16d3959e6164', node_type=<ObjectType.TEXT: '1'>, metadata={'page_label': '9', 'file_name': '1711.11248v3.pdf', 'file_path': '/home/t/atest/llamaindex-agents/data/1711.11248v3.pdf', 'file_type': 'application/pdf', 'file_size': 2395882, 'creation_date': '2024-08-11', 'last_modified_date': '2024-06-18'}, hash='09fe6ca6d8a905f669a4af42bd2d44db5937883d439d00e5ce0d20797bbe40a1'), <NodeRelationship.PARENT: '4'>: RelatedNodeInfo(node_id='5b6a4abe-f65e-42e8-9862-f3f07124c086', node_type=<ObjectType.TEXT: '1'>, metadata={'page_label': '9', 'file_name': '1711.11248v3.pdf', 'file_path': '/home/t/atest/llamaindex-agents/data/1711.11248v3.pdf', 'file_type': 'application/pdf', 'file_size': 2395882, 'creation_date': '2024-08-11', 'last_modified_date': '2024-06-18'}, hash='4ffbb14c0134c9f7c2f6d29ce34dfdf224dbe4e5b4904b6e073a6a4473d4e729')}, text='Large-scale video classiﬁcation with convo-\\nlutional neural networks. In CVPR , 2014.', mimetype='text/plain', start_char_idx=850, end_char_idx=935, text_template='{metadata_str}\\n\\n{content}', metadata_template='{key}: {value}', metadata_seperator='\\n'), score=0.3370779059683121),\n",
       " NodeWithScore(node=TextNode(id_='7d477ad5-fdfd-478e-a618-4634ebe9df1d', embedding=None, metadata={'page_label': '3', 'file_name': '1711.11248v3.pdf', 'file_path': '/home/t/atest/llamaindex-agents/data/1711.11248v3.pdf', 'file_type': 'application/pdf', 'file_size': 2395882, 'creation_date': '2024-08-11', 'last_modified_date': '2024-06-18'}, excluded_embed_metadata_keys=['file_name', 'file_type', 'file_size', 'creation_date', 'last_modified_date', 'last_accessed_date'], excluded_llm_metadata_keys=['file_name', 'file_type', 'file_size', 'creation_date', 'last_modified_date', 'last_accessed_date'], relationships={<NodeRelationship.SOURCE: '1'>: RelatedNodeInfo(node_id='5013e979-fff8-4b67-adca-c60c2f519e03', node_type=<ObjectType.DOCUMENT: '4'>, metadata={'page_label': '3', 'file_name': '1711.11248v3.pdf', 'file_path': '/home/t/atest/llamaindex-agents/data/1711.11248v3.pdf', 'file_type': 'application/pdf', 'file_size': 2395882, 'creation_date': '2024-08-11', 'last_modified_date': '2024-06-18'}, hash='b7280ad40ae50a1da5a2e7598ecf9cecaf7e201b5fb52b06a08b470cf04259f1'), <NodeRelationship.PREVIOUS: '2'>: RelatedNodeInfo(node_id='4b80e680-7b39-4334-9233-12f0341c7f43', node_type=<ObjectType.TEXT: '1'>, metadata={'page_label': '3', 'file_name': '1711.11248v3.pdf', 'file_path': '/home/t/atest/llamaindex-agents/data/1711.11248v3.pdf', 'file_type': 'application/pdf', 'file_size': 2395882, 'creation_date': '2024-08-11', 'last_modified_date': '2024-06-18'}, hash='8c2e25d5a5af47d7fde1755486963b7c2ff0af94ddd9971e9a51a4197a06a7b4'), <NodeRelationship.PARENT: '4'>: RelatedNodeInfo(node_id='40d2c1bc-27b7-494c-8f2f-f3c5917a5a6f', node_type=<ObjectType.TEXT: '1'>, metadata={'page_label': '3', 'file_name': '1711.11248v3.pdf', 'file_path': '/home/t/atest/llamaindex-agents/data/1711.11248v3.pdf', 'file_type': 'application/pdf', 'file_size': 2395882, 'creation_date': '2024-08-11', 'last_modified_date': '2024-06-18'}, hash='c354056a17ab51b0f67831a11ae7f761cfd43412c8d4911c3bafd0e2026fb13b')}, text='Each ﬁlter yields\\na single-channel output. Thus, the very ﬁrst convolutional\\nlayer in R2D collapses the entire temporal information of\\nthe video in single-channel feature maps, which prevent any\\ntemporal reasoning to happen in subsequent layers. This\\ntype of CNN architecture is illustrated in Figure 1(a). Note\\nthat since the feature maps have no temporal meaning, we\\ndo not perform temporal striding for this network.', mimetype='text/plain', start_char_idx=1230, end_char_idx=1649, text_template='{metadata_str}\\n\\n{content}', metadata_template='{key}: {value}', metadata_seperator='\\n'), score=0.336941395722902)]"
      ]
     },
     "execution_count": 20,
     "metadata": {},
     "output_type": "execute_result"
    }
   ],
   "source": [
    "retriever.retrieve(\"block for video\")"
   ]
  },
  {
   "cell_type": "markdown",
   "metadata": {},
   "source": [
    "## Entity metadata Extractor\n"
   ]
  },
  {
   "cell_type": "markdown",
   "metadata": {},
   "source": [
    "https://docs.llamaindex.ai/en/stable/examples/metadata_extraction/EntityExtractionClimate/\n"
   ]
  },
  {
   "cell_type": "code",
   "execution_count": 21,
   "metadata": {},
   "outputs": [],
   "source": [
    "# # # this downloads 712 MB model\n",
    "\n",
    "# from llama_index.extractors.entity import EntityExtractor\n",
    "# from llama_index.core.node_parser import SentenceSplitter\n",
    "\n",
    "# entity_extractor = EntityExtractor(\n",
    "#     prediction_threshold=0.5,\n",
    "#     # label_entities=False,  # include the entity label in the metadata (can be erroneous)\n",
    "#     # device=\"cpu\",  # set to \"cuda\" if you have a GPU\n",
    "# )\n",
    "\n",
    "# node_parser = SentenceSplitter()\n",
    "\n",
    "# transformations = [node_parser, entity_extractor]"
   ]
  },
  {
   "cell_type": "code",
   "execution_count": 22,
   "metadata": {},
   "outputs": [],
   "source": [
    "# pipeline = IngestionPipeline(transformations=transformations)\n",
    "# nods = pipeline.run(documents=docs)"
   ]
  },
  {
   "cell_type": "code",
   "execution_count": 23,
   "metadata": {},
   "outputs": [],
   "source": [
    "from llama_index.core.ingestion import IngestionPipeline\n",
    "from llama_index.core.schema import MetadataMode"
   ]
  },
  {
   "cell_type": "code",
   "execution_count": 24,
   "metadata": {},
   "outputs": [],
   "source": [
    "from llama_index.core.extractors import (\n",
    "    SummaryExtractor,\n",
    "    QuestionsAnsweredExtractor,\n",
    "    TitleExtractor,\n",
    "    KeywordExtractor,\n",
    "    BaseExtractor,\n",
    ")\n",
    "from llama_index.extractors.entity import EntityExtractor\n",
    "from llama_index.core.node_parser import TokenTextSplitter"
   ]
  },
  {
   "cell_type": "code",
   "execution_count": 25,
   "metadata": {},
   "outputs": [],
   "source": [
    "from llama_index.llms.ollama import Ollama"
   ]
  },
  {
   "cell_type": "code",
   "execution_count": 26,
   "metadata": {},
   "outputs": [],
   "source": [
    "ollama_model = Ollama(model=\"qwen2:0.5b\", request_timeout=120)"
   ]
  },
  {
   "cell_type": "code",
   "execution_count": 27,
   "metadata": {},
   "outputs": [],
   "source": [
    "text_splitter = TokenTextSplitter(separator=\" \", chunk_size=512, chunk_overlap=128)\n",
    "\n",
    "extractors = [\n",
    "    # TitleExtractor(nodes=5, llm=ollama_model),\n",
    "    QuestionsAnsweredExtractor(questions=3, llm=ollama_model),\n",
    "    # EntityExtractor(prediction_threshold=0.5),\n",
    "    # SummaryExtractor(summaries=[\"prev\", \"self\"], llm=llm),\n",
    "    KeywordExtractor(keywords=10, llm=ollama_model),\n",
    "]\n",
    "\n",
    "transformations = [text_splitter] + extractors"
   ]
  },
  {
   "cell_type": "code",
   "execution_count": 28,
   "metadata": {},
   "outputs": [
    {
     "name": "stderr",
     "output_type": "stream",
     "text": [
      "  0%|          | 0/44 [00:00<?, ?it/s]INFO:httpx:HTTP Request: POST http://localhost:11434/api/chat \"HTTP/1.1 200 OK\"\n",
      "  2%|▏         | 1/44 [00:08<05:53,  8.23s/it]INFO:httpx:HTTP Request: POST http://localhost:11434/api/chat \"HTTP/1.1 200 OK\"\n",
      "  5%|▍         | 2/44 [00:10<03:28,  4.95s/it]INFO:httpx:HTTP Request: POST http://localhost:11434/api/chat \"HTTP/1.1 200 OK\"\n",
      "  7%|▋         | 3/44 [00:12<02:17,  3.35s/it]INFO:httpx:HTTP Request: POST http://localhost:11434/api/chat \"HTTP/1.1 200 OK\"\n",
      "  9%|▉         | 4/44 [00:14<01:56,  2.91s/it]INFO:httpx:HTTP Request: POST http://localhost:11434/api/chat \"HTTP/1.1 200 OK\"\n",
      " 11%|█▏        | 5/44 [00:16<01:36,  2.47s/it]INFO:httpx:HTTP Request: POST http://localhost:11434/api/chat \"HTTP/1.1 200 OK\"\n",
      " 14%|█▎        | 6/44 [00:17<01:23,  2.19s/it]INFO:httpx:HTTP Request: POST http://localhost:11434/api/chat \"HTTP/1.1 200 OK\"\n",
      " 16%|█▌        | 7/44 [00:19<01:11,  1.92s/it]INFO:httpx:HTTP Request: POST http://localhost:11434/api/chat \"HTTP/1.1 200 OK\"\n",
      " 18%|█▊        | 8/44 [00:21<01:10,  1.95s/it]INFO:httpx:HTTP Request: POST http://localhost:11434/api/chat \"HTTP/1.1 200 OK\"\n",
      " 20%|██        | 9/44 [00:21<00:48,  1.38s/it]INFO:httpx:HTTP Request: POST http://localhost:11434/api/chat \"HTTP/1.1 200 OK\"\n",
      " 23%|██▎       | 10/44 [00:24<01:02,  1.84s/it]INFO:httpx:HTTP Request: POST http://localhost:11434/api/chat \"HTTP/1.1 200 OK\"\n",
      " 25%|██▌       | 11/44 [00:25<00:57,  1.75s/it]INFO:httpx:HTTP Request: POST http://localhost:11434/api/chat \"HTTP/1.1 200 OK\"\n",
      " 27%|██▋       | 12/44 [00:28<01:00,  1.89s/it]INFO:httpx:HTTP Request: POST http://localhost:11434/api/chat \"HTTP/1.1 200 OK\"\n",
      " 30%|██▉       | 13/44 [00:30<01:01,  1.97s/it]INFO:httpx:HTTP Request: POST http://localhost:11434/api/chat \"HTTP/1.1 200 OK\"\n",
      " 32%|███▏      | 14/44 [00:31<00:50,  1.68s/it]INFO:httpx:HTTP Request: POST http://localhost:11434/api/chat \"HTTP/1.1 200 OK\"\n",
      " 34%|███▍      | 15/44 [00:34<01:00,  2.07s/it]INFO:httpx:HTTP Request: POST http://localhost:11434/api/chat \"HTTP/1.1 200 OK\"\n",
      " 36%|███▋      | 16/44 [00:36<01:00,  2.17s/it]INFO:httpx:HTTP Request: POST http://localhost:11434/api/chat \"HTTP/1.1 200 OK\"\n",
      " 39%|███▊      | 17/44 [00:38<00:53,  1.98s/it]INFO:httpx:HTTP Request: POST http://localhost:11434/api/chat \"HTTP/1.1 200 OK\"\n",
      " 41%|████      | 18/44 [00:39<00:46,  1.80s/it]INFO:httpx:HTTP Request: POST http://localhost:11434/api/chat \"HTTP/1.1 200 OK\"\n",
      " 43%|████▎     | 19/44 [00:40<00:42,  1.70s/it]INFO:httpx:HTTP Request: POST http://localhost:11434/api/chat \"HTTP/1.1 200 OK\"\n",
      " 45%|████▌     | 20/44 [00:43<00:45,  1.91s/it]INFO:httpx:HTTP Request: POST http://localhost:11434/api/chat \"HTTP/1.1 200 OK\"\n",
      " 48%|████▊     | 21/44 [00:46<00:53,  2.31s/it]INFO:httpx:HTTP Request: POST http://localhost:11434/api/chat \"HTTP/1.1 200 OK\"\n",
      " 50%|█████     | 22/44 [00:48<00:48,  2.21s/it]INFO:httpx:HTTP Request: POST http://localhost:11434/api/chat \"HTTP/1.1 200 OK\"\n",
      " 52%|█████▏    | 23/44 [00:50<00:46,  2.21s/it]INFO:httpx:HTTP Request: POST http://localhost:11434/api/chat \"HTTP/1.1 200 OK\"\n",
      " 55%|█████▍    | 24/44 [00:53<00:45,  2.27s/it]INFO:httpx:HTTP Request: POST http://localhost:11434/api/chat \"HTTP/1.1 200 OK\"\n",
      " 57%|█████▋    | 25/44 [00:53<00:31,  1.65s/it]INFO:httpx:HTTP Request: POST http://localhost:11434/api/chat \"HTTP/1.1 200 OK\"\n",
      " 59%|█████▉    | 26/44 [00:59<00:51,  2.86s/it]INFO:httpx:HTTP Request: POST http://localhost:11434/api/chat \"HTTP/1.1 200 OK\"\n",
      " 61%|██████▏   | 27/44 [01:02<00:52,  3.07s/it]INFO:httpx:HTTP Request: POST http://localhost:11434/api/chat \"HTTP/1.1 200 OK\"\n",
      " 64%|██████▎   | 28/44 [01:08<01:00,  3.80s/it]INFO:httpx:HTTP Request: POST http://localhost:11434/api/chat \"HTTP/1.1 200 OK\"\n",
      " 66%|██████▌   | 29/44 [01:09<00:48,  3.21s/it]INFO:httpx:HTTP Request: POST http://localhost:11434/api/chat \"HTTP/1.1 200 OK\"\n",
      " 68%|██████▊   | 30/44 [01:14<00:50,  3.63s/it]INFO:httpx:HTTP Request: POST http://localhost:11434/api/chat \"HTTP/1.1 200 OK\"\n",
      " 70%|███████   | 31/44 [01:18<00:48,  3.73s/it]INFO:httpx:HTTP Request: POST http://localhost:11434/api/chat \"HTTP/1.1 200 OK\"\n",
      " 73%|███████▎  | 32/44 [01:26<00:58,  4.89s/it]INFO:httpx:HTTP Request: POST http://localhost:11434/api/chat \"HTTP/1.1 200 OK\"\n",
      " 75%|███████▌  | 33/44 [01:29<00:47,  4.28s/it]INFO:httpx:HTTP Request: POST http://localhost:11434/api/chat \"HTTP/1.1 200 OK\"\n",
      " 77%|███████▋  | 34/44 [01:32<00:39,  4.00s/it]INFO:httpx:HTTP Request: POST http://localhost:11434/api/chat \"HTTP/1.1 200 OK\"\n",
      " 80%|███████▉  | 35/44 [01:35<00:33,  3.77s/it]INFO:httpx:HTTP Request: POST http://localhost:11434/api/chat \"HTTP/1.1 200 OK\"\n",
      " 82%|████████▏ | 36/44 [01:39<00:30,  3.78s/it]INFO:httpx:HTTP Request: POST http://localhost:11434/api/chat \"HTTP/1.1 200 OK\"\n",
      " 84%|████████▍ | 37/44 [01:41<00:23,  3.41s/it]INFO:httpx:HTTP Request: POST http://localhost:11434/api/chat \"HTTP/1.1 200 OK\"\n",
      " 86%|████████▋ | 38/44 [01:45<00:20,  3.46s/it]INFO:httpx:HTTP Request: POST http://localhost:11434/api/chat \"HTTP/1.1 200 OK\"\n",
      " 89%|████████▊ | 39/44 [01:48<00:15,  3.19s/it]INFO:httpx:HTTP Request: POST http://localhost:11434/api/chat \"HTTP/1.1 200 OK\"\n",
      " 91%|█████████ | 40/44 [01:53<00:15,  3.97s/it]INFO:httpx:HTTP Request: POST http://localhost:11434/api/chat \"HTTP/1.1 200 OK\"\n",
      " 93%|█████████▎| 41/44 [01:57<00:11,  3.96s/it]INFO:httpx:HTTP Request: POST http://localhost:11434/api/chat \"HTTP/1.1 200 OK\"\n",
      " 95%|█████████▌| 42/44 [01:58<00:06,  3.05s/it]INFO:httpx:HTTP Request: POST http://localhost:11434/api/chat \"HTTP/1.1 200 OK\"\n",
      " 98%|█████████▊| 43/44 [01:59<00:02,  2.32s/it]INFO:httpx:HTTP Request: POST http://localhost:11434/api/chat \"HTTP/1.1 200 OK\"\n",
      "100%|██████████| 44/44 [02:23<00:00,  3.26s/it]\n",
      "  0%|          | 0/44 [00:00<?, ?it/s]INFO:httpx:HTTP Request: POST http://localhost:11434/api/chat \"HTTP/1.1 200 OK\"\n",
      "  2%|▏         | 1/44 [00:06<04:54,  6.86s/it]INFO:httpx:HTTP Request: POST http://localhost:11434/api/chat \"HTTP/1.1 200 OK\"\n",
      "  5%|▍         | 2/44 [00:09<03:05,  4.41s/it]INFO:httpx:HTTP Request: POST http://localhost:11434/api/chat \"HTTP/1.1 200 OK\"\n",
      "INFO:httpx:HTTP Request: POST http://localhost:11434/api/chat \"HTTP/1.1 200 OK\"\n",
      "  9%|▉         | 4/44 [00:13<01:52,  2.81s/it]INFO:httpx:HTTP Request: POST http://localhost:11434/api/chat \"HTTP/1.1 200 OK\"\n",
      " 11%|█▏        | 5/44 [00:15<01:41,  2.61s/it]INFO:httpx:HTTP Request: POST http://localhost:11434/api/chat \"HTTP/1.1 200 OK\"\n",
      " 14%|█▎        | 6/44 [00:17<01:30,  2.37s/it]INFO:httpx:HTTP Request: POST http://localhost:11434/api/chat \"HTTP/1.1 200 OK\"\n",
      " 16%|█▌        | 7/44 [00:19<01:28,  2.38s/it]INFO:httpx:HTTP Request: POST http://localhost:11434/api/chat \"HTTP/1.1 200 OK\"\n",
      " 18%|█▊        | 8/44 [00:21<01:22,  2.30s/it]INFO:httpx:HTTP Request: POST http://localhost:11434/api/chat \"HTTP/1.1 200 OK\"\n",
      " 20%|██        | 9/44 [00:23<01:09,  1.99s/it]INFO:httpx:HTTP Request: POST http://localhost:11434/api/chat \"HTTP/1.1 200 OK\"\n",
      " 23%|██▎       | 10/44 [00:25<01:17,  2.26s/it]INFO:httpx:HTTP Request: POST http://localhost:11434/api/chat \"HTTP/1.1 200 OK\"\n",
      " 25%|██▌       | 11/44 [00:28<01:19,  2.40s/it]INFO:httpx:HTTP Request: POST http://localhost:11434/api/chat \"HTTP/1.1 200 OK\"\n",
      " 27%|██▋       | 12/44 [00:28<00:55,  1.73s/it]INFO:httpx:HTTP Request: POST http://localhost:11434/api/chat \"HTTP/1.1 200 OK\"\n",
      " 30%|██▉       | 13/44 [00:32<01:08,  2.22s/it]INFO:httpx:HTTP Request: POST http://localhost:11434/api/chat \"HTTP/1.1 200 OK\"\n",
      " 32%|███▏      | 14/44 [00:37<01:31,  3.05s/it]INFO:httpx:HTTP Request: POST http://localhost:11434/api/chat \"HTTP/1.1 200 OK\"\n",
      " 34%|███▍      | 15/44 [00:38<01:13,  2.52s/it]INFO:httpx:HTTP Request: POST http://localhost:11434/api/chat \"HTTP/1.1 200 OK\"\n",
      " 36%|███▋      | 16/44 [00:42<01:21,  2.93s/it]INFO:httpx:HTTP Request: POST http://localhost:11434/api/chat \"HTTP/1.1 200 OK\"\n",
      " 39%|███▊      | 17/44 [00:44<01:16,  2.83s/it]INFO:httpx:HTTP Request: POST http://localhost:11434/api/chat \"HTTP/1.1 200 OK\"\n",
      " 41%|████      | 18/44 [00:48<01:18,  3.03s/it]INFO:httpx:HTTP Request: POST http://localhost:11434/api/chat \"HTTP/1.1 200 OK\"\n",
      " 43%|████▎     | 19/44 [00:50<01:11,  2.87s/it]INFO:httpx:HTTP Request: POST http://localhost:11434/api/chat \"HTTP/1.1 200 OK\"\n",
      " 45%|████▌     | 20/44 [00:53<01:04,  2.69s/it]INFO:httpx:HTTP Request: POST http://localhost:11434/api/chat \"HTTP/1.1 200 OK\"\n",
      " 48%|████▊     | 21/44 [00:56<01:08,  2.96s/it]INFO:httpx:HTTP Request: POST http://localhost:11434/api/chat \"HTTP/1.1 200 OK\"\n",
      " 50%|█████     | 22/44 [00:59<01:03,  2.89s/it]INFO:httpx:HTTP Request: POST http://localhost:11434/api/chat \"HTTP/1.1 200 OK\"\n",
      " 52%|█████▏    | 23/44 [01:02<00:59,  2.85s/it]INFO:httpx:HTTP Request: POST http://localhost:11434/api/chat \"HTTP/1.1 200 OK\"\n",
      "INFO:httpx:HTTP Request: POST http://localhost:11434/api/chat \"HTTP/1.1 200 OK\"\n",
      " 57%|█████▋    | 25/44 [01:07<00:51,  2.68s/it]INFO:httpx:HTTP Request: POST http://localhost:11434/api/chat \"HTTP/1.1 200 OK\"\n",
      " 59%|█████▉    | 26/44 [01:09<00:45,  2.52s/it]INFO:httpx:HTTP Request: POST http://localhost:11434/api/chat \"HTTP/1.1 200 OK\"\n",
      " 61%|██████▏   | 27/44 [01:12<00:44,  2.61s/it]INFO:httpx:HTTP Request: POST http://localhost:11434/api/chat \"HTTP/1.1 200 OK\"\n",
      " 64%|██████▎   | 28/44 [01:14<00:41,  2.56s/it]INFO:httpx:HTTP Request: POST http://localhost:11434/api/chat \"HTTP/1.1 200 OK\"\n",
      " 66%|██████▌   | 29/44 [01:17<00:38,  2.54s/it]INFO:httpx:HTTP Request: POST http://localhost:11434/api/chat \"HTTP/1.1 200 OK\"\n",
      " 68%|██████▊   | 30/44 [01:20<00:38,  2.74s/it]INFO:httpx:HTTP Request: POST http://localhost:11434/api/chat \"HTTP/1.1 200 OK\"\n",
      " 70%|███████   | 31/44 [01:24<00:41,  3.16s/it]INFO:httpx:HTTP Request: POST http://localhost:11434/api/chat \"HTTP/1.1 200 OK\"\n",
      "INFO:httpx:HTTP Request: POST http://localhost:11434/api/chat \"HTTP/1.1 200 OK\"\n",
      " 75%|███████▌  | 33/44 [01:30<00:32,  2.98s/it]INFO:httpx:HTTP Request: POST http://localhost:11434/api/chat \"HTTP/1.1 200 OK\"\n",
      " 77%|███████▋  | 34/44 [01:33<00:30,  3.10s/it]INFO:httpx:HTTP Request: POST http://localhost:11434/api/chat \"HTTP/1.1 200 OK\"\n",
      " 80%|███████▉  | 35/44 [01:38<00:31,  3.53s/it]INFO:httpx:HTTP Request: POST http://localhost:11434/api/chat \"HTTP/1.1 200 OK\"\n",
      " 82%|████████▏ | 36/44 [01:40<00:26,  3.27s/it]INFO:httpx:HTTP Request: POST http://localhost:11434/api/chat \"HTTP/1.1 200 OK\"\n",
      " 84%|████████▍ | 37/44 [01:42<00:19,  2.78s/it]INFO:httpx:HTTP Request: POST http://localhost:11434/api/chat \"HTTP/1.1 200 OK\"\n",
      "INFO:httpx:HTTP Request: POST http://localhost:11434/api/chat \"HTTP/1.1 200 OK\"\n",
      " 89%|████████▊ | 39/44 [01:48<00:14,  2.80s/it]INFO:httpx:HTTP Request: POST http://localhost:11434/api/chat \"HTTP/1.1 200 OK\"\n",
      " 91%|█████████ | 40/44 [01:49<00:10,  2.59s/it]INFO:httpx:HTTP Request: POST http://localhost:11434/api/chat \"HTTP/1.1 200 OK\"\n",
      " 93%|█████████▎| 41/44 [01:51<00:06,  2.29s/it]INFO:httpx:HTTP Request: POST http://localhost:11434/api/chat \"HTTP/1.1 200 OK\"\n",
      " 95%|█████████▌| 42/44 [01:53<00:04,  2.27s/it]INFO:httpx:HTTP Request: POST http://localhost:11434/api/chat \"HTTP/1.1 200 OK\"\n",
      " 98%|█████████▊| 43/44 [01:53<00:01,  1.67s/it]INFO:httpx:HTTP Request: POST http://localhost:11434/api/chat \"HTTP/1.1 200 OK\"\n",
      "100%|██████████| 44/44 [02:09<00:00,  2.94s/it]\n"
     ]
    }
   ],
   "source": [
    "pipeline = IngestionPipeline(transformations=transformations)\n",
    "nods = pipeline.run(documents=docs)"
   ]
  },
  {
   "cell_type": "code",
   "execution_count": 29,
   "metadata": {},
   "outputs": [],
   "source": [
    "from pprint import pprint"
   ]
  },
  {
   "cell_type": "code",
   "execution_count": 30,
   "metadata": {},
   "outputs": [],
   "source": [
    "def print_node(node: Node | NodeWithScore, metadata: bool = True):\n",
    "    char = 300\n",
    "    print(\"id: \", node.id_)\n",
    "    print(\"=\" * 10, \"METADATA\", \"=\" * 10)\n",
    "    pprint(node.metadata, indent=4)\n",
    "    print(\"=\" * 10, \"TEXT\", \"=\" * 10)\n",
    "    print(node.text[:char] + f\"...({len(node.text[char:])} chars truncated.)\")\n",
    "    print()"
   ]
  },
  {
   "cell_type": "code",
   "execution_count": 31,
   "metadata": {},
   "outputs": [
    {
     "name": "stdout",
     "output_type": "stream",
     "text": [
      "id:  58424e6b-d40d-4a5a-be80-73b960ddd5e8\n",
      "========== METADATA ==========\n",
      "{   'creation_date': '2024-08-11',\n",
      "    'excerpt_keywords': 'AI Agent, Action Recognition, Video Analysis, '\n",
      "                        'Residual Learning, Multi-scale Convolution, '\n",
      "                        'Spatiotemporal Convolution, Deep Learning, Image '\n",
      "                        'Recognition, State-of-the- art, Hand-Crafted Approach',\n",
      "    'file_name': '1711.11248v3.pdf',\n",
      "    'file_path': '/home/t/atest/llamaindex-agents/data/1711.11248v3.pdf',\n",
      "    'file_size': 2395882,\n",
      "    'file_type': 'application/pdf',\n",
      "    'last_modified_date': '2024-06-18',\n",
      "    'page_label': '1',\n",
      "    'questions_this_excerpt_can_answer': 'What recent advancements in video '\n",
      "                                         'analysis have been observed in terms '\n",
      "                                         'of accuracy and performance on '\n",
      "                                         'action recognition? How has the '\n",
      "                                         'design of 3D CNNs compared to 2D '\n",
      "                                         'CNNs?\\n'\n",
      "                                         'Can we expect a similar level of '\n",
      "                                         'improvement for factorsizing the 3D '\n",
      "                                         'convolutional filters into separate '\n",
      "                                         'spatial and temporal components, '\n",
      "                                         'with signiﬁcant gains in accuracy?\\n'\n",
      "                                         'How can we improve upon the '\n",
      "                                         'state-of-the-art on Sports-1M, '\n",
      "                                         'Kinetics, UCF101, and HMDB51 by '\n",
      "                                         'using a new spatiotemporal '\n",
      "                                         'convolutional block \"R(2+1)D\" that '\n",
      "                                         'achieves similar or superior '\n",
      "                                         'results?'}\n",
      "========== TEXT ==========\n",
      "A Closer Look at Spatiotemporal Convolutions for Action Recognition\n",
      "Du Tran1, Heng Wang1, Lorenzo Torresani1,2, Jamie Ray1, Yann LeCun1, Manohar Paluri1\n",
      "1Facebook Research2Dartmouth College\n",
      "{trandu,hengwang,torresani,jamieray,yann,mano }@fb.com\n",
      "Abstract\n",
      "In this paper we discuss several forms of spat...(1576 chars truncated.)\n",
      "\n"
     ]
    }
   ],
   "source": [
    "print_node(nods[0])"
   ]
  },
  {
   "cell_type": "code",
   "execution_count": 32,
   "metadata": {},
   "outputs": [
    {
     "data": {
      "text/plain": [
       "(4702, 44)"
      ]
     },
     "execution_count": 32,
     "metadata": {},
     "output_type": "execute_result"
    }
   ],
   "source": [
    "len(docs[0].text), len(nods)"
   ]
  },
  {
   "cell_type": "code",
   "execution_count": 33,
   "metadata": {},
   "outputs": [
    {
     "data": {
      "text/plain": [
       "'namics are jointly intertwined, the (2+1)D blocks (with fac-\\ntorized spatial and temporal components) are easier to opti-\\nmize. Our experiments demonstrate that ResNets adopting\\n(2+1)D blocks homogeneously in all layers achieve state-\\nof-the-art performance on both Kinetics and Sports-1M.\\n2. Related Work\\nVideo understanding is one of the core computer vision\\nproblems and has been studied for decades. Many research\\ncontributions in video understanding have focused on de-\\nveloping spatiotemporal features for video analysis. Some\\nproposed video representations include spatiotemporal in-\\nterest points (STIPs) [21], SIFT- 3D [27], HOG3D [18],\\nMotion Boundary Histogram [5], Cuboids [6], and Action-\\nBank [26]. These representations are hand-designed and\\nuse different feature encoding schemes such as those based\\non histograms or pyramids. Among these hand-crafted\\nrepresentations, improved Dense Trajectories (iDT) [38] is\\nwidely considered the state-of-the-art, thanks to its strong\\nresults on video classiﬁcation.\\nAfter the breakthrough of deep learning in still-image\\nrecognition originated by the introduction of the AlexNet\\nmodel [19], there has been active research devoted to the\\ndesign of deep networks for video. Many attempts in this\\ngenre leverage CNNs trained on images to extract features\\nfrom the individual frames and then perform temporal in-\\ntegration of such features into a ﬁxed-size descriptor using\\npooling, high-dimensional feature encoding [41, 11], or re-\\ncurrent neural networks [42, 7, 32, 2]. Karpathy et al. [16]\\npresented a thorough study on how to fuse temporal infor-\\nmation in CNNs and proposed a “slow fusion” model that\\nextends the connectivity of all convolutional layers in time\\nand computes activations though temporal convolutions in\\naddition to spatial convolutions. However, they found that\\nthe networks operating on individual frames performed on\\npar with the networks processing the entire spatiotemporal\\nvolume of the video. 3D CNNs using temporal convolu-\\ntions for recognizing human actions in video were arguably\\nﬁrst proposed by Baccouche et al. [1] and by Ji et al. [15].\\nBut 3D convolutions were also studied in parallel for un-\\nsupervised spatiotemporal feature learning with Restricted\\nBoltzmann Machines [35] and stacked ISA [22]. More re-\\ncently, 3D CNNs were shown to lead to strong action recog-\\nnition results when trained on large-scale datasets [36]. 3D\\nCNNs features were also demonstrated to generalize well to\\nother tasks, including action detection [28], video caption-\\ning [24], and hand gesture detection [23].\\nAnother inﬂuential approach to CNN-based video mod-\\neling is represented by the two-stream framework intro-\\nduced by Simonyan and Zisserman [29], who proposed to\\nfuse deep features extracted from optical ﬂow with the more\\ntraditional deep CNN activations computed from color\\nRGB input. Feichtenhofer et al. enhanced these two-streamnetworks with ResNet architectures [13] and additional con-\\nnections between streams [9]. Additional two-stream ap-\\nproaches include Temporal Segment Networks [39], Action\\nTransformations [40], and Convolutional Fusion [10]. No-\\ntably, Carreira and Zisserman recently introduced a model\\n(I3D) that combines two-stream processing and 3D convo-\\nlutions. I3D currently holds the best action recognition re-\\nsults on the large-scale Kinetics dataset.\\nOur work revisits many of the aforementioned ap-\\nproaches (speciﬁcally 3D CNNs, two-stream networks, and\\nResNets) in the context of an empirical analysis deeply\\nfocused on understanding the effects of different types of\\nspatiotemporal convolutions on action recognition perfor-\\nmance. We include in this study 2D convolution over\\nframes, 2D convolution over clips, 3D convolution, inter-\\nleaved (mixed) 3D-2D convolutions, as well as a decompo-\\nsition of 3D convolution into a 2D spatial convolution fol-\\nlowed by 1D temporal convolution, which we name (2+1)D\\nconvolution. We show that when used within a ResNet ar-\\nchitecture [13], (2+1)D convolutions lead to state-of-the-\\nart results on 4different benchmarks in action recognition.\\nOur architecture, called R(2+1)D, is related to Factorized\\nSpatio-Temporal Convolutional Networks [33] ( FSTCN)\\nin the way of factorizing spatiotemporal convolutions into\\nspatial and temporal ones. However, FSTCN focuses on\\nnetwork factorization, e.g. FSTCN is implemented by sev-\\neral spatial layers at the lower layers and two parallel tem-\\nporal layers on its top. On the other hand, R(2+1)D fo-\\ncuses on layer factorization, i.e. factorizing each spatiotem-\\nporal convolution into a block of a spatial convolution and\\na temporal convolution. As a result, R(2+1)D is alternat-\\ning between spatial and temporal convolutions across the\\nnetwork. R(2+1)D is also closely related to the Pseudo-3D\\nnetwork (P3D) [25], which includes three different resid-\\nual blocks that adapt the bottleneck block of 2D ResNets to\\nvideo. The blocks implement different forms of spatiotem-\\nporal convolution: spatial followed by temporal, spatial and\\ntemporal in parallel, and spatial followed by temporal with\\nskip connection from spatial convolution to the output of\\nthe block, respectively. The P3D model is formed by inter-\\nleaving these three blocks in sequence through the depth of\\nthe network. In contrast, our R(2+1)D model uses a single\\ntype of spatiotemporal residual block homogeneously in all\\nlayers and it does not include bottlenecks. Instead, we show\\nthat by making a careful choice of dimensionality for the\\nspatial-temporal decomposition in each block we can ob-\\ntain a model that is compact in size and that yet leads to\\nstate-of-the-art action recognition accuracy. For example,\\non Sports-1M using RGB as input, R(2+1)D outperforms\\nP3D by a margin of 9.1%in Clip@1 accuracy ( 57.0%vs\\n47.9%), despite the fact that P3D uses a 152-layer ResNet,\\nwhile our model has only 34 layers.'"
      ]
     },
     "execution_count": 33,
     "metadata": {},
     "output_type": "execute_result"
    }
   ],
   "source": [
    "docs[1].text"
   ]
  },
  {
   "cell_type": "code",
   "execution_count": 34,
   "metadata": {},
   "outputs": [
    {
     "name": "stderr",
     "output_type": "stream",
     "text": [
      "INFO:httpx:HTTP Request: POST http://localhost:11434/api/embeddings \"HTTP/1.1 200 OK\"\n",
      "INFO:httpx:HTTP Request: POST http://localhost:11434/api/embeddings \"HTTP/1.1 200 OK\"\n",
      "INFO:httpx:HTTP Request: POST http://localhost:11434/api/embeddings \"HTTP/1.1 200 OK\"\n",
      "INFO:httpx:HTTP Request: POST http://localhost:11434/api/embeddings \"HTTP/1.1 200 OK\"\n",
      "INFO:httpx:HTTP Request: POST http://localhost:11434/api/embeddings \"HTTP/1.1 200 OK\"\n",
      "INFO:httpx:HTTP Request: POST http://localhost:11434/api/embeddings \"HTTP/1.1 200 OK\"\n",
      "INFO:httpx:HTTP Request: POST http://localhost:11434/api/embeddings \"HTTP/1.1 200 OK\"\n",
      "INFO:httpx:HTTP Request: POST http://localhost:11434/api/embeddings \"HTTP/1.1 200 OK\"\n",
      "INFO:httpx:HTTP Request: POST http://localhost:11434/api/embeddings \"HTTP/1.1 200 OK\"\n",
      "INFO:httpx:HTTP Request: POST http://localhost:11434/api/embeddings \"HTTP/1.1 200 OK\"\n",
      "INFO:httpx:HTTP Request: POST http://localhost:11434/api/embeddings \"HTTP/1.1 200 OK\"\n",
      "INFO:httpx:HTTP Request: POST http://localhost:11434/api/embeddings \"HTTP/1.1 200 OK\"\n",
      "INFO:httpx:HTTP Request: POST http://localhost:11434/api/embeddings \"HTTP/1.1 200 OK\"\n",
      "INFO:httpx:HTTP Request: POST http://localhost:11434/api/embeddings \"HTTP/1.1 200 OK\"\n",
      "INFO:httpx:HTTP Request: POST http://localhost:11434/api/embeddings \"HTTP/1.1 200 OK\"\n",
      "INFO:httpx:HTTP Request: POST http://localhost:11434/api/embeddings \"HTTP/1.1 200 OK\"\n",
      "INFO:httpx:HTTP Request: POST http://localhost:11434/api/embeddings \"HTTP/1.1 200 OK\"\n",
      "INFO:httpx:HTTP Request: POST http://localhost:11434/api/embeddings \"HTTP/1.1 200 OK\"\n",
      "INFO:httpx:HTTP Request: POST http://localhost:11434/api/embeddings \"HTTP/1.1 200 OK\"\n",
      "INFO:httpx:HTTP Request: POST http://localhost:11434/api/embeddings \"HTTP/1.1 200 OK\"\n",
      "INFO:httpx:HTTP Request: POST http://localhost:11434/api/embeddings \"HTTP/1.1 200 OK\"\n",
      "INFO:httpx:HTTP Request: POST http://localhost:11434/api/embeddings \"HTTP/1.1 200 OK\"\n",
      "INFO:httpx:HTTP Request: POST http://localhost:11434/api/embeddings \"HTTP/1.1 200 OK\"\n",
      "INFO:httpx:HTTP Request: POST http://localhost:11434/api/embeddings \"HTTP/1.1 200 OK\"\n",
      "INFO:httpx:HTTP Request: POST http://localhost:11434/api/embeddings \"HTTP/1.1 200 OK\"\n",
      "INFO:httpx:HTTP Request: POST http://localhost:11434/api/embeddings \"HTTP/1.1 200 OK\"\n",
      "INFO:httpx:HTTP Request: POST http://localhost:11434/api/embeddings \"HTTP/1.1 200 OK\"\n",
      "INFO:httpx:HTTP Request: POST http://localhost:11434/api/embeddings \"HTTP/1.1 200 OK\"\n",
      "INFO:httpx:HTTP Request: POST http://localhost:11434/api/embeddings \"HTTP/1.1 200 OK\"\n",
      "INFO:httpx:HTTP Request: POST http://localhost:11434/api/embeddings \"HTTP/1.1 200 OK\"\n",
      "INFO:httpx:HTTP Request: POST http://localhost:11434/api/embeddings \"HTTP/1.1 200 OK\"\n",
      "INFO:httpx:HTTP Request: POST http://localhost:11434/api/embeddings \"HTTP/1.1 200 OK\"\n",
      "INFO:httpx:HTTP Request: POST http://localhost:11434/api/embeddings \"HTTP/1.1 200 OK\"\n",
      "INFO:httpx:HTTP Request: POST http://localhost:11434/api/embeddings \"HTTP/1.1 200 OK\"\n",
      "INFO:httpx:HTTP Request: POST http://localhost:11434/api/embeddings \"HTTP/1.1 200 OK\"\n",
      "INFO:httpx:HTTP Request: POST http://localhost:11434/api/embeddings \"HTTP/1.1 200 OK\"\n",
      "INFO:httpx:HTTP Request: POST http://localhost:11434/api/embeddings \"HTTP/1.1 200 OK\"\n",
      "INFO:httpx:HTTP Request: POST http://localhost:11434/api/embeddings \"HTTP/1.1 200 OK\"\n",
      "INFO:httpx:HTTP Request: POST http://localhost:11434/api/embeddings \"HTTP/1.1 200 OK\"\n",
      "INFO:httpx:HTTP Request: POST http://localhost:11434/api/embeddings \"HTTP/1.1 200 OK\"\n",
      "INFO:httpx:HTTP Request: POST http://localhost:11434/api/embeddings \"HTTP/1.1 200 OK\"\n",
      "INFO:httpx:HTTP Request: POST http://localhost:11434/api/embeddings \"HTTP/1.1 200 OK\"\n",
      "INFO:httpx:HTTP Request: POST http://localhost:11434/api/embeddings \"HTTP/1.1 200 OK\"\n",
      "INFO:httpx:HTTP Request: POST http://localhost:11434/api/embeddings \"HTTP/1.1 200 OK\"\n"
     ]
    }
   ],
   "source": [
    "idex = VectorStoreIndex(nodes=nods)"
   ]
  },
  {
   "cell_type": "code",
   "execution_count": 35,
   "metadata": {},
   "outputs": [
    {
     "name": "stderr",
     "output_type": "stream",
     "text": [
      "INFO:httpx:HTTP Request: POST http://localhost:11434/api/embeddings \"HTTP/1.1 200 OK\"\n"
     ]
    },
    {
     "data": {
      "text/plain": [
       "[NodeWithScore(node=TextNode(id_='e12e6a4e-8554-4889-91a8-feab0c1afd46', embedding=None, metadata={'page_label': '3', 'file_name': '1711.11248v3.pdf', 'file_path': '/home/t/atest/llamaindex-agents/data/1711.11248v3.pdf', 'file_type': 'application/pdf', 'file_size': 2395882, 'creation_date': '2024-08-11', 'last_modified_date': '2024-06-18', 'questions_this_excerpt_can_answer': '1. Is there a difference in the size of the input and output for convolutional layers in higher layers compared to lower layers?\\n2. What is the purpose of mixed 3D-2D convolutions? Can you explain how they differ from traditional 2D convolutional layers?\\n3. In what way does motion modeling (i.e., 3D convo-\\nlutions) differ from traditional 2D convolutional layers in terms of complexity and effectiveness in early layers?\\n4. What is the relationship between higher-level summaries provided by surrounding context, such as their relevance to specific projects or topics within the field?', 'excerpt_keywords': 'motion modeling, early layers, late levels of semantic abstraction, convolutional layers, mixed 3D-2D convolutions, 3D convo-\\nlutions, high dimensions, temporal modeling, context awareness, relevance to specific projects or topics within the field, 4D and has size Ni×L×Hi×Wi.'}, excluded_embed_metadata_keys=['file_name', 'file_type', 'file_size', 'creation_date', 'last_modified_date', 'last_accessed_date'], excluded_llm_metadata_keys=['file_name', 'file_type', 'file_size', 'creation_date', 'last_modified_date', 'last_accessed_date'], relationships={<NodeRelationship.SOURCE: '1'>: RelatedNodeInfo(node_id='5013e979-fff8-4b67-adca-c60c2f519e03', node_type=<ObjectType.DOCUMENT: '4'>, metadata={'page_label': '3', 'file_name': '1711.11248v3.pdf', 'file_path': '/home/t/atest/llamaindex-agents/data/1711.11248v3.pdf', 'file_type': 'application/pdf', 'file_size': 2395882, 'creation_date': '2024-08-11', 'last_modified_date': '2024-06-18'}, hash='b7280ad40ae50a1da5a2e7598ecf9cecaf7e201b5fb52b06a08b470cf04259f1'), <NodeRelationship.PREVIOUS: '2'>: RelatedNodeInfo(node_id='49299f53-fe0b-45ae-998e-cd55f162de7a', node_type=<ObjectType.TEXT: '1'>, metadata={'page_label': '3', 'file_name': '1711.11248v3.pdf', 'file_path': '/home/t/atest/llamaindex-agents/data/1711.11248v3.pdf', 'file_type': 'application/pdf', 'file_size': 2395882, 'creation_date': '2024-08-11', 'last_modified_date': '2024-06-18'}, hash='02cf8760f270542c7a189a86359e85ef71fb275c7c76019debac5baa301a0050')}, text='in this case 4D and has size Ni×L×Hi×Wi, where\\nNiis the number of ﬁlters used in the i-th block. Each ﬁlter\\nis4-dimensional and it has size Ni−1×t×d×dwheret\\ndenotes the temporal extent of the ﬁlter (in this work, we use\\nt= 3, as in [36, 4]). The ﬁlters are convolved in 3D, i.e.,\\nover both time and space dimensions. This type of CNN\\narchitecture is illustrated in Figure 1(d).\\n3.4. MCxand rMCx: mixed 3D-2D convolutions\\nOne hypothesis is that motion modeling (i.e., 3D convo-\\nlutions) may be particularly useful in the early layers, while\\nat higher levels of semantic abstraction (late layers), motion\\nor temporal modeling is not necessary. Thus a plausible\\narchitecture may start with 3D convolutions and switch to', mimetype='text/plain', start_char_idx=3629, end_char_idx=4345, text_template='[Excerpt from document]\\n{metadata_str}\\nExcerpt:\\n-----\\n{content}\\n-----\\n', metadata_template='{key}: {value}', metadata_seperator='\\n'), score=0.4005158178769869),\n",
       " NodeWithScore(node=TextNode(id_='5b159bb0-f2c6-4d0d-8020-00d81a5b9c89', embedding=None, metadata={'page_label': '1', 'file_name': '1711.11248v3.pdf', 'file_path': '/home/t/atest/llamaindex-agents/data/1711.11248v3.pdf', 'file_type': 'application/pdf', 'file_size': 2395882, 'creation_date': '2024-08-11', 'last_modified_date': '2024-06-18', 'questions_this_excerpt_can_answer': 'The paper describes two new forms of spatial convolution in artificial neural networks (ANNs) that it calls mixed convolution and a \"2+1D\" convolutional block. It argues that the use of motion modeling over mid-level motion features like eye movements and hand gestures leads to accurate action recognition, which improves performance compared to 3D convolutional networks with 3 times as many parameters. It also provides additional benefits such as better nonlinear rectiﬁcation between operations in a decomposition process that factorsizes 3D convolution into two separate and successive operations, as well as promoting optimization through the use of a lower training loss and testing loss.', 'excerpt_keywords': 'Mixed Convolution, 2D Convolution, Spatiotemporal Convolution, Action Recognition, Mid-level Operations, Spatial Reasoning, Full 3D Convolution, Decomposition Process, Optimization, Training Loss, Testing Loss, Lower Losses, Decentralization, Optimizing.'}, excluded_embed_metadata_keys=['file_name', 'file_type', 'file_size', 'creation_date', 'last_modified_date', 'last_accessed_date'], excluded_llm_metadata_keys=['file_name', 'file_type', 'file_size', 'creation_date', 'last_modified_date', 'last_accessed_date'], relationships={<NodeRelationship.SOURCE: '1'>: RelatedNodeInfo(node_id='58781826-0ef1-499b-a154-9c9228970ca0', node_type=<ObjectType.DOCUMENT: '4'>, metadata={'page_label': '1', 'file_name': '1711.11248v3.pdf', 'file_path': '/home/t/atest/llamaindex-agents/data/1711.11248v3.pdf', 'file_type': 'application/pdf', 'file_size': 2395882, 'creation_date': '2024-08-11', 'last_modified_date': '2024-06-18'}, hash='a927fe04bc7accdecb5536f2e60df944cb43c19287c5a9f451861ba2c25d831d'), <NodeRelationship.PREVIOUS: '2'>: RelatedNodeInfo(node_id='635ec449-d5c4-4120-bd96-ead5489eb617', node_type=<ObjectType.TEXT: '1'>, metadata={'page_label': '1', 'file_name': '1711.11248v3.pdf', 'file_path': '/home/t/atest/llamaindex-agents/data/1711.11248v3.pdf', 'file_type': 'application/pdf', 'file_size': 2395882, 'creation_date': '2024-08-11', 'last_modified_date': '2024-06-18'}, hash='49920754557c0c9a90d3cb424db2ba5bc54194a7bfb5c32a7c6ef19edf0a4703')}, text='outperform 2D ResNets for\\nthe same depth when trained and evaluated on large-scale,\\nchallenging action recognition benchmarks such as Sports-\\n1M [16] and Kinetics [17].\\nInspired by these results, we introduce two new forms\\nof spatiotemporal convolution that can be viewed as mid-\\ndle grounds between the extremes of 2D (spatial convolu-\\ntion) and full 3D. The ﬁrst formulation is named mixed con-\\nvolution (MC) and consists in employing 3D convolutions\\nonly in the early layers of the network, with 2D convolu-\\ntions in the top layers. The rationale behind this design is\\nthat motion modeling is a low/mid-level operation that can\\nbe implemented via 3D convolutions in the early layers of\\na network, and spatial reasoning over these mid-level mo-\\ntion features (implemented by 2D convolutions in the top\\nlayers) leads to accurate action recognition. We show that\\nMC ResNets yield roughly a 3-4% gain in clip-level ac-\\ncuracy over 2D ResNets of comparable capacity and they\\nmatch the performance of 3D ResNets, which have 3 times\\nas many parameters. The second spatiotemporal variant is\\na “(2+1)D” convolutional block, which explicitly factorizes\\n3D convolution into two separate and successive operations,\\na 2D spatial convolution and a 1D temporal convolution.\\nWhat do we gain from such a decomposition? The ﬁrst\\nadvantage is an additional nonlinear rectiﬁcation between\\nthese two operations. This effectively doubles the number\\nof nonlinearities compared to a network using full 3D con-\\nvolutions for the same number of parameters, thus rendering\\nthe model capable of representing more complex functions.\\nThe second potential beneﬁt is that the decomposition fa-\\ncilitates the optimization, yielding in practice both a lower\\ntraining loss and a lower testing loss. In other words we ﬁnd\\nthat, compared to full 3D ﬁlters where appearance and dy-\\n1\\narXiv:1711.11248v3  [cs.CV]  12 Apr 2018', mimetype='text/plain', start_char_idx=2813, end_char_idx=4702, text_template='[Excerpt from document]\\n{metadata_str}\\nExcerpt:\\n-----\\n{content}\\n-----\\n', metadata_template='{key}: {value}', metadata_seperator='\\n'), score=0.29208564360376976)]"
      ]
     },
     "execution_count": 35,
     "metadata": {},
     "output_type": "execute_result"
    }
   ],
   "source": [
    "retriever = idex.as_retriever()\n",
    "out = retriever.retrieve(\"filters into separate spatial \")\n",
    "out"
   ]
  },
  {
   "cell_type": "code",
   "execution_count": 36,
   "metadata": {},
   "outputs": [
    {
     "name": "stdout",
     "output_type": "stream",
     "text": [
      "id:  e12e6a4e-8554-4889-91a8-feab0c1afd46\n",
      "========== METADATA ==========\n",
      "{   'creation_date': '2024-08-11',\n",
      "    'excerpt_keywords': 'motion modeling, early layers, late levels of '\n",
      "                        'semantic abstraction, convolutional layers, mixed '\n",
      "                        '3D-2D convolutions, 3D convo-\\n'\n",
      "                        'lutions, high dimensions, temporal modeling, context '\n",
      "                        'awareness, relevance to specific projects or topics '\n",
      "                        'within the field, 4D and has size Ni×L×Hi×Wi.',\n",
      "    'file_name': '1711.11248v3.pdf',\n",
      "    'file_path': '/home/t/atest/llamaindex-agents/data/1711.11248v3.pdf',\n",
      "    'file_size': 2395882,\n",
      "    'file_type': 'application/pdf',\n",
      "    'last_modified_date': '2024-06-18',\n",
      "    'page_label': '3',\n",
      "    'questions_this_excerpt_can_answer': '1. Is there a difference in the size '\n",
      "                                         'of the input and output for '\n",
      "                                         'convolutional layers in higher '\n",
      "                                         'layers compared to lower layers?\\n'\n",
      "                                         '2. What is the purpose of mixed '\n",
      "                                         '3D-2D convolutions? Can you explain '\n",
      "                                         'how they differ from traditional 2D '\n",
      "                                         'convolutional layers?\\n'\n",
      "                                         '3. In what way does motion modeling '\n",
      "                                         '(i.e., 3D convo-\\n'\n",
      "                                         'lutions) differ from traditional 2D '\n",
      "                                         'convolutional layers in terms of '\n",
      "                                         'complexity and effectiveness in '\n",
      "                                         'early layers?\\n'\n",
      "                                         '4. What is the relationship between '\n",
      "                                         'higher-level summaries provided by '\n",
      "                                         'surrounding context, such as their '\n",
      "                                         'relevance to specific projects or '\n",
      "                                         'topics within the field?'}\n",
      "========== TEXT ==========\n",
      "in this case 4D and has size Ni×L×Hi×Wi, where\n",
      "Niis the number of ﬁlters used in the i-th block. Each ﬁlter\n",
      "is4-dimensional and it has size Ni−1×t×d×dwheret\n",
      "denotes the temporal extent of the ﬁlter (in this work, we use\n",
      "t= 3, as in [36, 4]). The ﬁlters are convolved in 3D, i.e.,\n",
      "over both time and s...(416 chars truncated.)\n",
      "\n"
     ]
    }
   ],
   "source": [
    "print_node(out[0])"
   ]
  },
  {
   "cell_type": "code",
   "execution_count": 38,
   "metadata": {},
   "outputs": [
    {
     "data": {
      "text/plain": [
       "'outperform 2D ResNets for\\nthe same depth when trained and evaluated on large-scale,\\nchallenging action recognition benchmarks such as Sports-\\n1M [16] and Kinetics [17].\\nInspired by these results, we introduce two new forms\\nof spatiotemporal convolution that can be viewed as mid-\\ndle grounds between the extremes of 2D (spatial convolu-\\ntion) and full 3D. The ﬁrst formulation is named mixed con-\\nvolution (MC) and consists in employing 3D convolutions\\nonly in the early layers of the network, with 2D convolu-\\ntions in the top layers. The rationale behind this design is\\nthat motion modeling is a low/mid-level operation that can\\nbe implemented via 3D convolutions in the early layers of\\na network, and spatial reasoning over these mid-level mo-\\ntion features (implemented by 2D convolutions in the top\\nlayers) leads to accurate action recognition. We show that\\nMC ResNets yield roughly a 3-4% gain in clip-level ac-\\ncuracy over 2D ResNets of comparable capacity and they\\nmatch the performance of 3D ResNets, which have 3 times\\nas many parameters. The second spatiotemporal variant is\\na “(2+1)D” convolutional block, which explicitly factorizes\\n3D convolution into two separate and successive operations,\\na 2D spatial convolution and a 1D temporal convolution.\\nWhat do we gain from such a decomposition? The ﬁrst\\nadvantage is an additional nonlinear rectiﬁcation between\\nthese two operations. This effectively doubles the number\\nof nonlinearities compared to a network using full 3D con-\\nvolutions for the same number of parameters, thus rendering\\nthe model capable of representing more complex functions.\\nThe second potential beneﬁt is that the decomposition fa-\\ncilitates the optimization, yielding in practice both a lower\\ntraining loss and a lower testing loss. In other words we ﬁnd\\nthat, compared to full 3D ﬁlters where appearance and dy-\\n1\\narXiv:1711.11248v3  [cs.CV]  12 Apr 2018'"
      ]
     },
     "execution_count": 38,
     "metadata": {},
     "output_type": "execute_result"
    }
   ],
   "source": [
    "out[1].text"
   ]
  },
  {
   "cell_type": "code",
   "execution_count": null,
   "metadata": {},
   "outputs": [],
   "source": []
  }
 ],
 "metadata": {
  "kernelspec": {
   "display_name": ".venv",
   "language": "python",
   "name": "python3"
  },
  "language_info": {
   "codemirror_mode": {
    "name": "ipython",
    "version": 3
   },
   "file_extension": ".py",
   "mimetype": "text/x-python",
   "name": "python",
   "nbconvert_exporter": "python",
   "pygments_lexer": "ipython3",
   "version": "3.11.9"
  }
 },
 "nbformat": 4,
 "nbformat_minor": 2
}
