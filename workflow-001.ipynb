{
 "cells": [
  {
   "cell_type": "markdown",
   "metadata": {},
   "source": [
    "# Llamaindex workflow\n"
   ]
  },
  {
   "cell_type": "code",
   "execution_count": 80,
   "metadata": {},
   "outputs": [],
   "source": [
    "from nest_asyncio import apply\n",
    "apply()"
   ]
  },
  {
   "cell_type": "code",
   "execution_count": 81,
   "metadata": {},
   "outputs": [],
   "source": [
    "from llama_index.core.workflow import (\n",
    "    Event,\n",
    "    StartEvent,\n",
    "    StopEvent,\n",
    "    Workflow,\n",
    "    step,\n",
    ")\n",
    "\n",
    "# `pip install llama-index-llms-openai` if you don't already have it\n",
    "# from llama_index.llms.openai import OpenAI\n",
    "from llama_index.llms.gemini import Gemini"
   ]
  },
  {
   "cell_type": "code",
   "execution_count": 82,
   "metadata": {},
   "outputs": [
    {
     "data": {
      "text/plain": [
       "True"
      ]
     },
     "execution_count": 82,
     "metadata": {},
     "output_type": "execute_result"
    }
   ],
   "source": [
    "from dotenv import load_dotenv\n",
    "\n",
    "load_dotenv('../.env')"
   ]
  },
  {
   "cell_type": "code",
   "execution_count": 83,
   "metadata": {},
   "outputs": [],
   "source": [
    "class JokeEvent(Event):\n",
    "    joke: str\n",
    "\n",
    "from llama_index.core import Settings\n",
    "\n",
    "llm = Gemini(model='models/gemini-1.5-pro')\n",
    "\n",
    "Settings.llm=llm\n",
    "\n",
    "class JokeFlow(Workflow):\n",
    "\n",
    "    @step()\n",
    "    async def generate_joke(self, ev: StartEvent) -> JokeEvent:\n",
    "        topic = ev.topic\n",
    "\n",
    "        prompt = f\"Write your best joke about {topic}.\"\n",
    "        response = await llm.acomplete(prompt)\n",
    "        return JokeEvent(joke=str(response))\n",
    "\n",
    "    @step()\n",
    "    async def critique_joke(self, ev: JokeEvent) -> StopEvent:\n",
    "        joke = ev.joke\n",
    "\n",
    "        prompt = f\"Give a thorough analysis and critique of the following joke: {joke}\"\n",
    "        response = await llm.acomplete(prompt)\n",
    "        return StopEvent(result=str(response))\n",
    "\n"
   ]
  },
  {
   "cell_type": "code",
   "execution_count": 84,
   "metadata": {},
   "outputs": [
    {
     "name": "stdout",
     "output_type": "stream",
     "text": [
      "Running step generate_joke\n",
      "Step generate_joke produced event JokeEvent\n",
      "Running step critique_joke\n",
      "Step critique_joke produced event StopEvent\n",
      "## Analysis and Critique of the Pirate Joke\n",
      "\n",
      "This joke is a classic example of a pun, relying on the dual meaning of the word \"deck\" to create humor. \n",
      "\n",
      "**Analysis:**\n",
      "\n",
      "* **Setup:** The setup establishes a scenario with a pirate and the expectation of a card game. This creates an initial expectation in the listener's mind.\n",
      "* **Punchline:** The punchline subverts the expectation by revealing that the pirate is literally sitting on the deck of the ship, not lacking a deck of cards. \n",
      "* **Humor Mechanism:**\n",
      "    * **Pun:** The humor stems from the word \"deck\" having two meanings: a surface on a ship and a set of playing cards. \n",
      "    * **Surprise:** The joke relies on the element of surprise. The listener anticipates a reason related to the pirate's character or situation, but the punchline takes an unexpected, literal turn.\n",
      "\n",
      "**Critique:**\n",
      "\n",
      "**Strengths:**\n",
      "\n",
      "* **Simplicity:** The joke is short, simple, and easy to understand, making it accessible to a wide audience.\n",
      "* **Universality:** The concept of a pirate and a ship's deck is widely recognized, making the joke relatable.\n",
      "* **Clean Humor:** The joke is inoffensive and appropriate for all ages.\n",
      "\n",
      "**Weaknesses:**\n",
      "\n",
      "* **Predictability:** The pun is quite common, making the joke somewhat predictable, especially for those familiar with wordplay humor.\n",
      "* **Lack of Depth:** The joke lacks depth or cleverness beyond the basic pun. It doesn't offer any insightful commentary or unexpected twists.\n",
      "* **Overused:** This joke, or variations of it, are quite common and may elicit groans rather than laughter due to its overused nature.\n",
      "\n",
      "**Overall:**\n",
      "\n",
      "This pirate joke is a harmless and mildly amusing example of a pun. While it effectively uses wordplay to create a humorous twist, its predictability and lack of depth prevent it from being a truly memorable or hilarious joke. It might elicit a chuckle from younger audiences or those unfamiliar with the pun, but seasoned humor enthusiasts might find it a tad stale. \n",
      "\n"
     ]
    }
   ],
   "source": [
    "w = JokeFlow(timeout=60, verbose=True)\n",
    "result = await w.run(topic=\"pirates\")\n",
    "print(str(result))"
   ]
  },
  {
   "cell_type": "code",
   "execution_count": 26,
   "metadata": {},
   "outputs": [],
   "source": [
    "from llama_index.core.workflow import Context"
   ]
  },
  {
   "cell_type": "code",
   "execution_count": 74,
   "metadata": {},
   "outputs": [],
   "source": [
    "class JokeTopicEvent(Event):\n",
    "    topic:str\n",
    "\n",
    "class AttentiveAI(Workflow):\n",
    "    llm = Gemini(model='models/gemini-1.5-pro')\n",
    "\n",
    "    @step(pass_context=True)\n",
    "    async def get_topic(self,ctx:Context, ev: StartEvent) -> JokeTopicEvent|StopEvent:\n",
    "        \n",
    "        if (hasattr(ev, 'topic')):\n",
    "            \n",
    "            ctx.data['topic']  =ev.topic\n",
    "            print('set topic: ', ev.topic)\n",
    "            return JokeTopicEvent(topic=str(ev.topic))\n",
    "    \n",
    "        return StopEvent()\n",
    "\n",
    "\n",
    "    @step(pass_context=True)\n",
    "    async def generate_joke(self, ctx:Context, ev : JokeTopicEvent) -> StopEvent:\n",
    "        inputs = ctx.collect_events(ev, [JokeTopicEvent])\n",
    "        \n",
    "        print('inputs: ',inputs)\n",
    "        prompt = 'say ahoy'\n",
    "        print('ctx data: ', ctx.data)\n",
    "        if 'topic' in ctx.data:\n",
    "            prompt = f'tell be a joke about {ctx.data[\"topic\"]}'\n",
    "        else:\n",
    "            if hasattr(ev, 'query'):\n",
    "                prompt = f\"reverse this string {ev.query}\"\n",
    "        print('promtpt: ',prompt)\n",
    "        \n",
    "        response = await self.llm.acomplete(prompt=prompt)\n",
    "        return StopEvent(result=str(response))"
   ]
  },
  {
   "cell_type": "code",
   "execution_count": 75,
   "metadata": {},
   "outputs": [],
   "source": [
    "# from llama_index.utils.workflow import (\n",
    "#     draw_all_possible_flows,\n",
    "#     draw_most_recent_execution,\n",
    "# )\n",
    "\n",
    "# # Draw all\n",
    "# draw_all_possible_flows(AttentiveAI, filename=\"attentiveai.html\")\n",
    "\n",
    "# # Draw an execution"
   ]
  },
  {
   "cell_type": "code",
   "execution_count": 76,
   "metadata": {},
   "outputs": [],
   "source": [
    "a = AttentiveAI()"
   ]
  },
  {
   "cell_type": "code",
   "execution_count": 78,
   "metadata": {},
   "outputs": [
    {
     "name": "stdout",
     "output_type": "stream",
     "text": [
      "None\n"
     ]
    }
   ],
   "source": [
    "out = await a.run(query='how old is sun')\n",
    "print(str(out))"
   ]
  },
  {
   "cell_type": "code",
   "execution_count": 79,
   "metadata": {},
   "outputs": [
    {
     "name": "stdout",
     "output_type": "stream",
     "text": [
      "workflow_recent_execution.html\n"
     ]
    }
   ],
   "source": [
    "draw_most_recent_execution(a)"
   ]
  },
  {
   "cell_type": "code",
   "execution_count": null,
   "metadata": {},
   "outputs": [],
   "source": []
  }
 ],
 "metadata": {
  "kernelspec": {
   "display_name": ".venv",
   "language": "python",
   "name": "python3"
  },
  "language_info": {
   "codemirror_mode": {
    "name": "ipython",
    "version": 3
   },
   "file_extension": ".py",
   "mimetype": "text/x-python",
   "name": "python",
   "nbconvert_exporter": "python",
   "pygments_lexer": "ipython3",
   "version": "3.11.9"
  }
 },
 "nbformat": 4,
 "nbformat_minor": 2
}
